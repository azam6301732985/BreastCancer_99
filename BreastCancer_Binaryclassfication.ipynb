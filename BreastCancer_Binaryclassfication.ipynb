{
 "cells": [
  {
   "cell_type": "code",
   "execution_count": null,
   "metadata": {},
   "outputs": [],
   "source": []
  },
  {
   "cell_type": "code",
   "execution_count": null,
   "metadata": {},
   "outputs": [],
   "source": []
  },
  {
   "cell_type": "code",
   "execution_count": 1,
   "metadata": {},
   "outputs": [],
   "source": [
    "#importing librarires\n",
    "import numpy as np\n",
    "import pandas as pd\n",
    "import matplotlib.pyplot as plt"
   ]
  },
  {
   "cell_type": "code",
   "execution_count": 2,
   "metadata": {},
   "outputs": [
    {
     "data": {
      "text/html": [
       "<div>\n",
       "<style scoped>\n",
       "    .dataframe tbody tr th:only-of-type {\n",
       "        vertical-align: middle;\n",
       "    }\n",
       "\n",
       "    .dataframe tbody tr th {\n",
       "        vertical-align: top;\n",
       "    }\n",
       "\n",
       "    .dataframe thead th {\n",
       "        text-align: right;\n",
       "    }\n",
       "</style>\n",
       "<table border=\"1\" class=\"dataframe\">\n",
       "  <thead>\n",
       "    <tr style=\"text-align: right;\">\n",
       "      <th></th>\n",
       "      <th>id</th>\n",
       "      <th>diagnosis</th>\n",
       "      <th>radius_mean</th>\n",
       "      <th>texture_mean</th>\n",
       "      <th>perimeter_mean</th>\n",
       "      <th>area_mean</th>\n",
       "      <th>smoothness_mean</th>\n",
       "      <th>compactness_mean</th>\n",
       "      <th>concavity_mean</th>\n",
       "      <th>concave points_mean</th>\n",
       "      <th>...</th>\n",
       "      <th>texture_worst</th>\n",
       "      <th>perimeter_worst</th>\n",
       "      <th>area_worst</th>\n",
       "      <th>smoothness_worst</th>\n",
       "      <th>compactness_worst</th>\n",
       "      <th>concavity_worst</th>\n",
       "      <th>concave points_worst</th>\n",
       "      <th>symmetry_worst</th>\n",
       "      <th>fractal_dimension_worst</th>\n",
       "      <th>Unnamed: 32</th>\n",
       "    </tr>\n",
       "  </thead>\n",
       "  <tbody>\n",
       "    <tr>\n",
       "      <th>0</th>\n",
       "      <td>842302</td>\n",
       "      <td>M</td>\n",
       "      <td>17.99</td>\n",
       "      <td>10.38</td>\n",
       "      <td>122.8</td>\n",
       "      <td>1001.0</td>\n",
       "      <td>0.11840</td>\n",
       "      <td>0.27760</td>\n",
       "      <td>0.3001</td>\n",
       "      <td>0.14710</td>\n",
       "      <td>...</td>\n",
       "      <td>17.33</td>\n",
       "      <td>184.6</td>\n",
       "      <td>2019.0</td>\n",
       "      <td>0.1622</td>\n",
       "      <td>0.6656</td>\n",
       "      <td>0.7119</td>\n",
       "      <td>0.2654</td>\n",
       "      <td>0.4601</td>\n",
       "      <td>0.11890</td>\n",
       "      <td>NaN</td>\n",
       "    </tr>\n",
       "    <tr>\n",
       "      <th>1</th>\n",
       "      <td>842517</td>\n",
       "      <td>M</td>\n",
       "      <td>20.57</td>\n",
       "      <td>17.77</td>\n",
       "      <td>132.9</td>\n",
       "      <td>1326.0</td>\n",
       "      <td>0.08474</td>\n",
       "      <td>0.07864</td>\n",
       "      <td>0.0869</td>\n",
       "      <td>0.07017</td>\n",
       "      <td>...</td>\n",
       "      <td>23.41</td>\n",
       "      <td>158.8</td>\n",
       "      <td>1956.0</td>\n",
       "      <td>0.1238</td>\n",
       "      <td>0.1866</td>\n",
       "      <td>0.2416</td>\n",
       "      <td>0.1860</td>\n",
       "      <td>0.2750</td>\n",
       "      <td>0.08902</td>\n",
       "      <td>NaN</td>\n",
       "    </tr>\n",
       "  </tbody>\n",
       "</table>\n",
       "<p>2 rows × 33 columns</p>\n",
       "</div>"
      ],
      "text/plain": [
       "       id diagnosis  radius_mean  texture_mean  perimeter_mean  area_mean  \\\n",
       "0  842302         M        17.99         10.38           122.8     1001.0   \n",
       "1  842517         M        20.57         17.77           132.9     1326.0   \n",
       "\n",
       "   smoothness_mean  compactness_mean  concavity_mean  concave points_mean  \\\n",
       "0          0.11840           0.27760          0.3001              0.14710   \n",
       "1          0.08474           0.07864          0.0869              0.07017   \n",
       "\n",
       "   ...  texture_worst  perimeter_worst  area_worst  smoothness_worst  \\\n",
       "0  ...          17.33            184.6      2019.0            0.1622   \n",
       "1  ...          23.41            158.8      1956.0            0.1238   \n",
       "\n",
       "   compactness_worst  concavity_worst  concave points_worst  symmetry_worst  \\\n",
       "0             0.6656           0.7119                0.2654          0.4601   \n",
       "1             0.1866           0.2416                0.1860          0.2750   \n",
       "\n",
       "   fractal_dimension_worst  Unnamed: 32  \n",
       "0                  0.11890          NaN  \n",
       "1                  0.08902          NaN  \n",
       "\n",
       "[2 rows x 33 columns]"
      ]
     },
     "execution_count": 2,
     "metadata": {},
     "output_type": "execute_result"
    }
   ],
   "source": [
    "#importing data\n",
    "data=pd.read_csv('BreastCancer.csv')\n",
    "data.head(2)"
   ]
  },
  {
   "cell_type": "code",
   "execution_count": 3,
   "metadata": {},
   "outputs": [],
   "source": [
    "#one unncessary column is there delete that \n",
    "del data['Unnamed: 32']\n"
   ]
  },
  {
   "cell_type": "code",
   "execution_count": 4,
   "metadata": {},
   "outputs": [
    {
     "name": "stdout",
     "output_type": "stream",
     "text": [
      "(569, 32)\n"
     ]
    }
   ],
   "source": [
    "print(data.shape)"
   ]
  },
  {
   "cell_type": "code",
   "execution_count": 5,
   "metadata": {},
   "outputs": [
    {
     "name": "stdout",
     "output_type": "stream",
     "text": [
      "(398, 30) (171, 30) (398,) (171,)\n"
     ]
    }
   ],
   "source": [
    "#seperating the dependent and independent variables\n",
    "y=data.iloc[:,1].values\n",
    "x=data.iloc[:,2:].values\n",
    "\n",
    "#encoding the target variables\n",
    "from sklearn.preprocessing import LabelEncoder\n",
    "encoder=LabelEncoder()\n",
    "y=encoder.fit_transform(y)\n",
    "\n",
    "#feature scaling\n",
    "from sklearn.preprocessing import StandardScaler\n",
    "scaler=StandardScaler()\n",
    "x=scaler.fit_transform(x)\n",
    "\n",
    "#splitting the data into train and test datasets inthe ratio of 70:30\n",
    "from sklearn.model_selection import train_test_split as tts\n",
    "x_train,x_test,y_train,y_test=tts(x,y,test_size=0.30,random_state=0)\n",
    "print(x_train.shape,x_test.shape,y_train.shape,y_test.shape)"
   ]
  },
  {
   "cell_type": "markdown",
   "metadata": {},
   "source": [
    "# step-2:Model Building"
   ]
  },
  {
   "cell_type": "markdown",
   "metadata": {},
   "source": [
    "# KNN ALGORITHM"
   ]
  },
  {
   "cell_type": "code",
   "execution_count": 6,
   "metadata": {},
   "outputs": [],
   "source": [
    "from sklearn.neighbors import KNeighborsClassifier  #importing knn library\n",
    "knn=KNeighborsClassifier(n_neighbors=5) #instantiating the model\n",
    "knn.fit(x_train,y_train) #fitting the model\n",
    "knn_pred_test=knn.predict(x_test) # generating predictions over the test data\n",
    "knn_pred_proba=knn.predict_proba(x_test) #genearating probability preictions over the test data"
   ]
  },
  {
   "cell_type": "markdown",
   "metadata": {},
   "source": [
    "# STEP-3: Model Evaluation Metrics"
   ]
  },
  {
   "cell_type": "code",
   "execution_count": 7,
   "metadata": {},
   "outputs": [
    {
     "name": "stdout",
     "output_type": "stream",
     "text": [
      "the mean cross_val_score of KNN algorithm is: 0.9647435897435898\n",
      "              precision    recall  f1-score   support\n",
      "\n",
      "           0       0.95      0.99      0.97       108\n",
      "           1       0.98      0.90      0.94        63\n",
      "\n",
      "    accuracy                           0.96       171\n",
      "   macro avg       0.96      0.95      0.96       171\n",
      "weighted avg       0.96      0.96      0.96       171\n",
      "\n",
      "accuracy_score of knn algorithm is: 0.9590643274853801\n"
     ]
    },
    {
     "data": {
      "image/png": "[encoded data removed]",
      "text/plain": [
       "<Figure size 432x288 with 2 Axes>"
      ]
     },
     "metadata": {
      "needs_background": "light"
     },
     "output_type": "display_data"
    }
   ],
   "source": [
    "from sklearn.metrics import confusion_matrix,classification_report,accuracy_score\n",
    "from sklearn.model_selection import cross_val_score\n",
    "import seaborn as sns\n",
    "cvs=cross_val_score(knn,x_train,y_train,scoring=\"accuracy\",cv=10)\n",
    "print(\"the mean cross_val_score of KNN algorithm is:\",cvs.mean())\n",
    "cm=confusion_matrix(y_test,knn_pred_test)\n",
    "sns.heatmap(cm,annot=True)\n",
    "print(classification_report(y_test,knn_pred_test))\n",
    "print(\"accuracy_score of knn algorithm is:\",accuracy_score(y_test,knn_pred_test))\n",
    "\n",
    "\n",
    "\n",
    "\n",
    "\n",
    "\n"
   ]
  },
  {
   "cell_type": "code",
   "execution_count": 8,
   "metadata": {},
   "outputs": [
    {
     "data": {
      "image/png": "[encoded data removed]",
      "text/plain": [
       "<Figure size 432x288 with 1 Axes>"
      ]
     },
     "metadata": {
      "needs_background": "light"
     },
     "output_type": "display_data"
    }
   ],
   "source": [
    "#precision_recall_curve\n",
    "from sklearn.metrics import precision_recall_curve as prc\n",
    "precision_points,recall_points,threshold_points=prc(y_test,knn_pred_proba[:,1])\n",
    "plt.plot(threshold_points,precision_points[:-1],label='precision_curve',color='red')\n",
    "plt.plot(threshold_points,recall_points[:-1],label=\"recall_curve\",color='blue')\n",
    "plt.legend()\n",
    "plt.show()\n",
    "#the below intersection is near 0.5, which is a very good threshold"
   ]
  },
  {
   "cell_type": "markdown",
   "metadata": {},
   "source": [
    "# from here we simultaneously use step2 and step3 for different algorithms"
   ]
  },
  {
   "cell_type": "code",
   "execution_count": 9,
   "metadata": {},
   "outputs": [
    {
     "name": "stdout",
     "output_type": "stream",
     "text": [
      "the cross_val_score of naive_bayes is: 0.9347435897435897\n",
      "              precision    recall  f1-score   support\n",
      "\n",
      "           0       0.94      0.92      0.93       108\n",
      "           1       0.86      0.90      0.88        63\n",
      "\n",
      "    accuracy                           0.91       171\n",
      "   macro avg       0.90      0.91      0.91       171\n",
      "weighted avg       0.91      0.91      0.91       171\n",
      "\n",
      "teh accuracy_score of naive_bayes is: 0.9122807017543859\n"
     ]
    },
    {
     "data": {
      "image/png": "[encoded data removed]",
      "text/plain": [
       "<Figure size 432x288 with 2 Axes>"
      ]
     },
     "metadata": {
      "needs_background": "light"
     },
     "output_type": "display_data"
    }
   ],
   "source": [
    "#Naive Bayes Algorithm\n",
    "from sklearn.naive_bayes import GaussianNB,BernoulliNB,MultinomialNB\n",
    "nb=GaussianNB()\n",
    "nb.fit(x_train,y_train)\n",
    "nb_pred_test=nb.predict(x_test)\n",
    "nb_pred_proba=nb.predict_proba(x_test)\n",
    "\n",
    "#metrics\n",
    "from sklearn.metrics import accuracy_score,confusion_matrix,classification_report\n",
    "from sklearn.model_selection import cross_val_score\n",
    "import seaborn as sns\n",
    "cvs=cross_val_score(nb,x_train,y_train,scoring='accuracy',cv=10)\n",
    "print(\"the cross_val_score of naive_bayes is:\",cvs.mean())\n",
    "cm=confusion_matrix(y_test,nb_pred_test)\n",
    "sns.heatmap(cm,annot=True)\n",
    "print(classification_report(y_test,nb_pred_test))\n",
    "print(\"teh accuracy_score of naive_bayes is:\",accuracy_score(y_test,nb_pred_test))\n",
    "\n"
   ]
  },
  {
   "cell_type": "code",
   "execution_count": 10,
   "metadata": {},
   "outputs": [
    {
     "data": {
      "image/png": "[encoded data removed]",
      "text/plain": [
       "<Figure size 432x288 with 1 Axes>"
      ]
     },
     "metadata": {
      "needs_background": "light"
     },
     "output_type": "display_data"
    }
   ],
   "source": [
    "#precision_recall_curve\n",
    "from sklearn.metrics import precision_recall_curve as prc\n",
    "precision_points,recall_points,threshold_points=prc(y_test,nb_pred_proba[:,1])\n",
    "plt.plot(threshold_points,precision_points[:-1],label=\"precision_curve\",color='red')\n",
    "plt.plot(threshold_points,recall_points[:-1],label='recall_curve',color='blue')\n",
    "plt.legend()\n",
    "plt.show()\n",
    "\n",
    "#the intersection of the belowplot is at 1 which is a very bad threshold"
   ]
  },
  {
   "cell_type": "code",
   "execution_count": 11,
   "metadata": {},
   "outputs": [
    {
     "name": "stdout",
     "output_type": "stream",
     "text": [
      "the coss_val_score of svm is: 0.9800000000000001\n",
      "              precision    recall  f1-score   support\n",
      "\n",
      "           0       0.97      0.99      0.98       108\n",
      "           1       0.98      0.95      0.97        63\n",
      "\n",
      "    accuracy                           0.98       171\n",
      "   macro avg       0.98      0.97      0.97       171\n",
      "weighted avg       0.98      0.98      0.98       171\n",
      "\n",
      "the accuracy score of svm is: 0.9766081871345029\n"
     ]
    },
    {
     "data": {
      "image/png": "[encoded data removed]",
      "text/plain": [
       "<Figure size 432x288 with 2 Axes>"
      ]
     },
     "metadata": {
      "needs_background": "light"
     },
     "output_type": "display_data"
    }
   ],
   "source": [
    "#support vector machine\n",
    "from sklearn.svm import SVC,LinearSVC\n",
    "svm=SVC(probability=True)\n",
    "svm.fit(x_train,y_train)\n",
    "svm_pred_test=svm.predict(x_test)\n",
    "svm_pred_proba=svm.predict_proba(x_test)\n",
    "\n",
    "#metrics\n",
    "from sklearn.metrics import confusion_matrix,classification_report,accuracy_score\n",
    "from sklearn.model_selection import cross_val_score\n",
    "import seaborn as sns\n",
    "cvs=cross_val_score(svm,x_train,y_train,scoring='accuracy',cv=10)\n",
    "print(\"the coss_val_score of svm is:\",cvs.mean())\n",
    "cm=confusion_matrix(y_test,svm_pred_test)\n",
    "sns.heatmap(cm,annot=True)\n",
    "print(classification_report(y_test,svm_pred_test))\n",
    "print(\"the accuracy score of svm is:\",accuracy_score(y_test,svm_pred_test))"
   ]
  },
  {
   "cell_type": "code",
   "execution_count": 12,
   "metadata": {},
   "outputs": [
    {
     "data": {
      "image/png": "[encoded data removed]",
      "text/plain": [
       "<Figure size 432x288 with 1 Axes>"
      ]
     },
     "metadata": {
      "needs_background": "light"
     },
     "output_type": "display_data"
    }
   ],
   "source": [
    "#precision_recall_curve\n",
    "from sklearn.metrics import precision_recall_curve as prc\n",
    "precision_points,recall_points,threshold_points=prc(y_test,svm_pred_proba[:,1])\n",
    "plt.plot(threshold_points,precision_points[:-1],label='precision_curve',color='red')\n",
    "plt.plot(threshold_points,recall_points[:-1],label='recall_curve',color='blue')\n",
    "plt.legend()\n",
    "plt.show()\n",
    "\n",
    "#the intersection is between 0.5 and 0.6 which is a goo threshold"
   ]
  },
  {
   "cell_type": "code",
   "execution_count": 13,
   "metadata": {},
   "outputs": [
    {
     "name": "stdout",
     "output_type": "stream",
     "text": [
      "the  mean cross_val_score of LogisticRegression is: 0.9798717948717949\n",
      "              precision    recall  f1-score   support\n",
      "\n",
      "           0       0.97      0.99      0.98       108\n",
      "           1       0.98      0.95      0.97        63\n",
      "\n",
      "    accuracy                           0.98       171\n",
      "   macro avg       0.98      0.97      0.97       171\n",
      "weighted avg       0.98      0.98      0.98       171\n",
      "\n",
      "the accuracy_score of logistic Regression is: 0.9766081871345029\n"
     ]
    },
    {
     "data": {
      "image/png": "[encoded data removed]",
      "text/plain": [
       "<Figure size 432x288 with 2 Axes>"
      ]
     },
     "metadata": {
      "needs_background": "light"
     },
     "output_type": "display_data"
    }
   ],
   "source": [
    "#Logistic Regression\n",
    "\n",
    "from sklearn.linear_model import LogisticRegression\n",
    "lr=LogisticRegression()\n",
    "lr.fit(x_train,y_train)\n",
    "lr_pred_test=lr.predict(x_test)\n",
    "lr_pred_proba=lr.predict_proba(x_test)\n",
    "\n",
    "#metrics\n",
    "from sklearn.metrics import accuracy_score,confusion_matrix,classification_report\n",
    "from sklearn.model_selection import cross_val_score\n",
    "import seaborn as sns\n",
    "cm=confusion_matrix(y_test,lr_pred_test)\n",
    "sns.heatmap(cm,annot=True)\n",
    "cvs=cross_val_score(lr,x_train,y_train,cv=10,scoring='accuracy')\n",
    "print(\"the  mean cross_val_score of LogisticRegression is:\",cvs.mean())\n",
    "print(classification_report(y_test,lr_pred_test))\n",
    "print(\"the accuracy_score of logistic Regression is:\",accuracy_score(y_test,lr_pred_test))"
   ]
  },
  {
   "cell_type": "code",
   "execution_count": 14,
   "metadata": {},
   "outputs": [
    {
     "data": {
      "image/png": "[encoded data removed]",
      "text/plain": [
       "<Figure size 432x288 with 1 Axes>"
      ]
     },
     "metadata": {
      "needs_background": "light"
     },
     "output_type": "display_data"
    }
   ],
   "source": [
    "#precision_recall_curve\n",
    "from sklearn.metrics import precision_recall_curve as prc\n",
    "precision_points,recall_points,threshold_points=prc(y_test,lr_pred_proba[:,1])\n",
    "plt.plot(threshold_points, precision_points[:-1],label='precsion_curve',color='red')\n",
    "plt.plot(threshold_points, recall_points[:-1],label='recall_curve',color='blue')\n",
    "plt.legend()\n",
    "plt.show()\n",
    "#the belowintersection is at 0.5 which is a very good threshold"
   ]
  },
  {
   "cell_type": "code",
   "execution_count": 15,
   "metadata": {},
   "outputs": [
    {
     "name": "stdout",
     "output_type": "stream",
     "text": [
      "              precision    recall  f1-score   support\n",
      "\n",
      "           0       0.97      0.90      0.93       108\n",
      "           1       0.85      0.95      0.90        63\n",
      "\n",
      "    accuracy                           0.92       171\n",
      "   macro avg       0.91      0.93      0.91       171\n",
      "weighted avg       0.92      0.92      0.92       171\n",
      "\n",
      "the meancross_val_score of DecisionTree is: 0.9095512820512821\n",
      "accuracy_score of logisticRegression is: 0.9181286549707602\n"
     ]
    },
    {
     "data": {
      "image/png": "[encoded data removed]",
      "text/plain": [
       "<Figure size 432x288 with 2 Axes>"
      ]
     },
     "metadata": {
      "needs_background": "light"
     },
     "output_type": "display_data"
    },
    {
     "data": {
      "image/png": "[encoded data removed]",
      "text/plain": [
       "<Figure size 504x576 with 1 Axes>"
      ]
     },
     "metadata": {
      "needs_background": "light"
     },
     "output_type": "display_data"
    }
   ],
   "source": [
    "#Decision Tree classifier\n",
    "\n",
    "from sklearn.tree import DecisionTreeClassifier as DTC\n",
    "dt=DTC()\n",
    "dt.fit(x_train,y_train)\n",
    "dt_pred_train=dt.predict(x_train)\n",
    "dt_pred_test=dt.predict(x_test)\n",
    "dt_pred_proba=dt.predict_proba(x_test)\n",
    "\n",
    "#metrics\n",
    "from sklearn.metrics import confusion_matrix,classification_report,accuracy_score\n",
    "from sklearn.model_selection import cross_val_score\n",
    "import seaborn as sns\n",
    "cm=confusion_matrix(y_test,dt_pred_test)\n",
    "sns.heatmap(cm,annot=True)\n",
    "print(classification_report(y_test,dt_pred_test))\n",
    "cvs=cross_val_score(dt,x_train,y_train,cv=10,scoring='accuracy')\n",
    "print(\"the meancross_val_score of DecisionTree is:\",cvs.mean())\n",
    "print(\"accuracy_score of logisticRegression is:\",accuracy_score(y_test,dt_pred_test))\n",
    "\n",
    "#tree diagram\n",
    "from sklearn import tree\n",
    "plt.figure(figsize=(7,8))\n",
    "_=tree.plot_tree(dt)"
   ]
  },
  {
   "cell_type": "code",
   "execution_count": 16,
   "metadata": {},
   "outputs": [
    {
     "name": "stdout",
     "output_type": "stream",
     "text": [
      "0.9322468354430381\n",
      "{'criterion': 'entropy', 'max_depth': 4}\n"
     ]
    }
   ],
   "source": [
    "# now the above metrics of decision tree results in Pruning/Overfitting,\n",
    "#for this we try to optimize the best parameters, known as HyperParameter Tuning/Optimization\n",
    "# to get the best parameters we use RnadomizedSearchCV/GridSearchCV\n",
    "\n",
    "params={\n",
    "    'criterion'    : ['gini','entropy'],\n",
    "    'max_depth'    : [2,3,4]\n",
    "}\n",
    "\n",
    "from sklearn.model_selection import RandomizedSearchCV,GridSearchCV\n",
    "grid_search=GridSearchCV(dt,param_grid=params)\n",
    "grid_search.fit(x_train,y_train)\n",
    "\n",
    "print(grid_search.best_score_)\n",
    "print(grid_search.best_params_)"
   ]
  },
  {
   "cell_type": "code",
   "execution_count": 17,
   "metadata": {},
   "outputs": [
    {
     "name": "stdout",
     "output_type": "stream",
     "text": [
      "              precision    recall  f1-score   support\n",
      "\n",
      "           0       0.97      0.94      0.95       108\n",
      "           1       0.90      0.95      0.92        63\n",
      "\n",
      "    accuracy                           0.94       171\n",
      "   macro avg       0.93      0.94      0.94       171\n",
      "weighted avg       0.94      0.94      0.94       171\n",
      "\n",
      "the meancross_val_score of DecisionTree is: 0.9146153846153847\n",
      "accuracy_score of logisticRegression is: 0.9415204678362573\n"
     ]
    },
    {
     "data": {
      "image/png": "[encoded data removed]",
      "text/plain": [
       "<Figure size 432x288 with 2 Axes>"
      ]
     },
     "metadata": {
      "needs_background": "light"
     },
     "output_type": "display_data"
    },
    {
     "data": {
      "image/png": "[encoded data removed]",
      "text/plain": [
       "<Figure size 504x576 with 1 Axes>"
      ]
     },
     "metadata": {
      "needs_background": "light"
     },
     "output_type": "display_data"
    }
   ],
   "source": [
    "#decsion trees-applying thehyperparameter tuning\n",
    "from sklearn.tree import DecisionTreeClassifier as DTC\n",
    "dt=DTC(criterion='gini', max_depth=4)\n",
    "dt.fit(x_train,y_train)\n",
    "dt_pred_train=dt.predict(x_train)\n",
    "dt_pred_test=dt.predict(x_test)\n",
    "dt_pred_proba=dt.predict_proba(x_test)\n",
    "\n",
    "#metrics\n",
    "from sklearn.metrics import confusion_matrix,classification_report,accuracy_score\n",
    "from sklearn.model_selection import cross_val_score\n",
    "import seaborn as sns\n",
    "cm=confusion_matrix(y_test,dt_pred_test)\n",
    "sns.heatmap(cm,annot=True)\n",
    "print(classification_report(y_test,dt_pred_test))\n",
    "cvs=cross_val_score(dt,x_train,y_train,cv=10,scoring='accuracy')\n",
    "print(\"the meancross_val_score of DecisionTree is:\",cvs.mean())\n",
    "print(\"accuracy_score of logisticRegression is:\",accuracy_score(y_test,dt_pred_test))\n",
    "\n",
    "#tree diagram\n",
    "from sklearn import tree\n",
    "plt.figure(figsize=(7,8))\n",
    "_=tree.plot_tree(dt)"
   ]
  },
  {
   "cell_type": "code",
   "execution_count": 18,
   "metadata": {},
   "outputs": [
    {
     "data": {
      "image/png": "[encoded data removed]",
      "text/plain": [
       "<Figure size 432x288 with 1 Axes>"
      ]
     },
     "metadata": {
      "needs_background": "light"
     },
     "output_type": "display_data"
    }
   ],
   "source": [
    "#precision_recall_curve\n",
    "from sklearn.metrics import precision_recall_curve as prc\n",
    "precision_points, recall_points, threshold_points=prc(y_test,dt_pred_proba[:,1])\n",
    "plt.plot(threshold_points,precision_points[:-1],label='precision_curve',color='red')\n",
    "plt.plot(threshold_points,recall_points[:-1],label='recall_curve',color='blue')\n",
    "plt.legend()\n",
    "plt.show()\n",
    "\n",
    "#the intersection is at 1, which is a very bad threshold"
   ]
  },
  {
   "cell_type": "code",
   "execution_count": 19,
   "metadata": {},
   "outputs": [
    {
     "name": "stdout",
     "output_type": "stream",
     "text": [
      " the mean cross_val_score of rf is 0.9548717948717949\n",
      "              precision    recall  f1-score   support\n",
      "\n",
      "           0       1.00      1.00      1.00       249\n",
      "           1       1.00      1.00      1.00       149\n",
      "\n",
      "    accuracy                           1.00       398\n",
      "   macro avg       1.00      1.00      1.00       398\n",
      "weighted avg       1.00      1.00      1.00       398\n",
      "\n",
      "              precision    recall  f1-score   support\n",
      "\n",
      "           0       0.99      0.96      0.98       108\n",
      "           1       0.94      0.98      0.96        63\n",
      "\n",
      "    accuracy                           0.97       171\n",
      "   macro avg       0.96      0.97      0.97       171\n",
      "weighted avg       0.97      0.97      0.97       171\n",
      "\n",
      "the accuracy_score of rf is 0.9707602339181286\n"
     ]
    },
    {
     "data": {
      "image/png": "[encoded data removed]",
      "text/plain": [
       "<Figure size 432x288 with 2 Axes>"
      ]
     },
     "metadata": {
      "needs_background": "light"
     },
     "output_type": "display_data"
    }
   ],
   "source": [
    "#Random Forest classifier\n",
    "from sklearn.ensemble import RandomForestClassifier as RFC\n",
    "rf=RFC()\n",
    "rf.fit(x_train,y_train)\n",
    "rf_pred_train=rf.predict(x_train)\n",
    "rf_pred_test=rf.predict(x_test)\n",
    "rf_pred_proba=rf.predict_proba(x_test)\n",
    "\n",
    "#metrics\n",
    "from sklearn.metrics import confusion_matrix,classification_report,accuracy_score\n",
    "from sklearn.model_selection import cross_val_score\n",
    "import seaborn as sns\n",
    "cvs=cross_val_score(rf,x_train,y_train,scoring='accuracy',cv=10)\n",
    "print(\" the mean cross_val_score of rf is\",cvs.mean())\n",
    "cm=confusion_matrix(y_test,rf_pred_test)\n",
    "sns.heatmap(cm,annot=True)\n",
    "print(classification_report(y_train,rf_pred_train))\n",
    "print(classification_report(y_test,rf_pred_test))\n",
    "print(\"the accuracy_score of rf is\",accuracy_score(y_test,rf_pred_test))"
   ]
  },
  {
   "cell_type": "code",
   "execution_count": 20,
   "metadata": {},
   "outputs": [
    {
     "name": "stdout",
     "output_type": "stream",
     "text": [
      "Fitting 5 folds for each of 10 candidates, totalling 50 fits\n",
      "[CV] n_estimators=200, max_depth=5, criterion=gini ...................\n"
     ]
    },
    {
     "name": "stderr",
     "output_type": "stream",
     "text": [
      "[Parallel(n_jobs=1)]: Using backend SequentialBackend with 1 concurrent workers.\n"
     ]
    },
    {
     "name": "stdout",
     "output_type": "stream",
     "text": [
      "[CV]  n_estimators=200, max_depth=5, criterion=gini, score=0.963, total=   3.0s\n",
      "[CV] n_estimators=200, max_depth=5, criterion=gini ...................\n"
     ]
    },
    {
     "name": "stderr",
     "output_type": "stream",
     "text": [
      "[Parallel(n_jobs=1)]: Done   1 out of   1 | elapsed:    3.0s remaining:    0.0s\n"
     ]
    },
    {
     "name": "stdout",
     "output_type": "stream",
     "text": [
      "[CV]  n_estimators=200, max_depth=5, criterion=gini, score=0.900, total=   2.2s\n",
      "[CV] n_estimators=200, max_depth=5, criterion=gini ...................\n"
     ]
    },
    {
     "name": "stderr",
     "output_type": "stream",
     "text": [
      "[Parallel(n_jobs=1)]: Done   2 out of   2 | elapsed:    5.1s remaining:    0.0s\n"
     ]
    },
    {
     "name": "stdout",
     "output_type": "stream",
     "text": [
      "[CV]  n_estimators=200, max_depth=5, criterion=gini, score=0.963, total=   2.3s\n",
      "[CV] n_estimators=200, max_depth=5, criterion=gini ...................\n",
      "[CV]  n_estimators=200, max_depth=5, criterion=gini, score=0.949, total=   2.2s\n",
      "[CV] n_estimators=200, max_depth=5, criterion=gini ...................\n",
      "[CV]  n_estimators=200, max_depth=5, criterion=gini, score=0.949, total=   2.2s\n",
      "[CV] n_estimators=20, max_depth=6, criterion=entropy .................\n",
      "[CV]  n_estimators=20, max_depth=6, criterion=entropy, score=0.975, total=   0.3s\n",
      "[CV] n_estimators=20, max_depth=6, criterion=entropy .................\n",
      "[CV]  n_estimators=20, max_depth=6, criterion=entropy, score=0.912, total=   0.3s\n",
      "[CV] n_estimators=20, max_depth=6, criterion=entropy .................\n",
      "[CV]  n_estimators=20, max_depth=6, criterion=entropy, score=0.938, total=   0.3s\n",
      "[CV] n_estimators=20, max_depth=6, criterion=entropy .................\n",
      "[CV]  n_estimators=20, max_depth=6, criterion=entropy, score=0.962, total=   0.3s\n",
      "[CV] n_estimators=20, max_depth=6, criterion=entropy .................\n",
      "[CV]  n_estimators=20, max_depth=6, criterion=entropy, score=0.975, total=   0.3s\n",
      "[CV] n_estimators=100, max_depth=3, criterion=entropy ................\n",
      "[CV]  n_estimators=100, max_depth=3, criterion=entropy, score=0.975, total=   1.2s\n",
      "[CV] n_estimators=100, max_depth=3, criterion=entropy ................\n",
      "[CV]  n_estimators=100, max_depth=3, criterion=entropy, score=0.912, total=   1.1s\n",
      "[CV] n_estimators=100, max_depth=3, criterion=entropy ................\n",
      "[CV]  n_estimators=100, max_depth=3, criterion=entropy, score=0.950, total=   1.1s\n",
      "[CV] n_estimators=100, max_depth=3, criterion=entropy ................\n",
      "[CV]  n_estimators=100, max_depth=3, criterion=entropy, score=0.937, total=   1.1s\n",
      "[CV] n_estimators=100, max_depth=3, criterion=entropy ................\n",
      "[CV]  n_estimators=100, max_depth=3, criterion=entropy, score=0.962, total=   1.1s\n",
      "[CV] n_estimators=10, max_depth=4, criterion=entropy .................\n",
      "[CV]  n_estimators=10, max_depth=4, criterion=entropy, score=0.938, total=   0.1s\n",
      "[CV] n_estimators=10, max_depth=4, criterion=entropy .................\n",
      "[CV]  n_estimators=10, max_depth=4, criterion=entropy, score=0.900, total=   0.2s\n",
      "[CV] n_estimators=10, max_depth=4, criterion=entropy .................\n",
      "[CV]  n_estimators=10, max_depth=4, criterion=entropy, score=0.925, total=   0.1s\n",
      "[CV] n_estimators=10, max_depth=4, criterion=entropy .................\n",
      "[CV]  n_estimators=10, max_depth=4, criterion=entropy, score=0.937, total=   0.2s\n",
      "[CV] n_estimators=10, max_depth=4, criterion=entropy .................\n",
      "[CV]  n_estimators=10, max_depth=4, criterion=entropy, score=0.987, total=   0.1s\n",
      "[CV] n_estimators=20, max_depth=5, criterion=gini ....................\n",
      "[CV]  n_estimators=20, max_depth=5, criterion=gini, score=0.950, total=   0.3s\n",
      "[CV] n_estimators=20, max_depth=5, criterion=gini ....................\n",
      "[CV]  n_estimators=20, max_depth=5, criterion=gini, score=0.887, total=   0.2s\n",
      "[CV] n_estimators=20, max_depth=5, criterion=gini ....................\n",
      "[CV]  n_estimators=20, max_depth=5, criterion=gini, score=0.988, total=   0.2s\n",
      "[CV] n_estimators=20, max_depth=5, criterion=gini ....................\n",
      "[CV]  n_estimators=20, max_depth=5, criterion=gini, score=0.949, total=   0.3s\n",
      "[CV] n_estimators=20, max_depth=5, criterion=gini ....................\n",
      "[CV]  n_estimators=20, max_depth=5, criterion=gini, score=0.937, total=   0.2s\n",
      "[CV] n_estimators=50, max_depth=4, criterion=gini ....................\n",
      "[CV]  n_estimators=50, max_depth=4, criterion=gini, score=0.988, total=   0.6s\n",
      "[CV] n_estimators=50, max_depth=4, criterion=gini ....................\n",
      "[CV]  n_estimators=50, max_depth=4, criterion=gini, score=0.887, total=   0.5s\n",
      "[CV] n_estimators=50, max_depth=4, criterion=gini ....................\n",
      "[CV]  n_estimators=50, max_depth=4, criterion=gini, score=0.963, total=   0.5s\n",
      "[CV] n_estimators=50, max_depth=4, criterion=gini ....................\n",
      "[CV]  n_estimators=50, max_depth=4, criterion=gini, score=0.949, total=   0.5s\n",
      "[CV] n_estimators=50, max_depth=4, criterion=gini ....................\n",
      "[CV]  n_estimators=50, max_depth=4, criterion=gini, score=0.975, total=   0.6s\n",
      "[CV] n_estimators=10, max_depth=5, criterion=entropy .................\n",
      "[CV]  n_estimators=10, max_depth=5, criterion=entropy, score=0.938, total=   0.1s\n",
      "[CV] n_estimators=10, max_depth=5, criterion=entropy .................\n",
      "[CV]  n_estimators=10, max_depth=5, criterion=entropy, score=0.925, total=   0.1s\n",
      "[CV] n_estimators=10, max_depth=5, criterion=entropy .................\n",
      "[CV]  n_estimators=10, max_depth=5, criterion=entropy, score=0.975, total=   0.1s\n",
      "[CV] n_estimators=10, max_depth=5, criterion=entropy .................\n",
      "[CV]  n_estimators=10, max_depth=5, criterion=entropy, score=0.949, total=   0.2s\n",
      "[CV] n_estimators=10, max_depth=5, criterion=entropy .................\n",
      "[CV]  n_estimators=10, max_depth=5, criterion=entropy, score=0.987, total=   0.1s\n",
      "[CV] n_estimators=20, max_depth=2, criterion=gini ....................\n",
      "[CV]  n_estimators=20, max_depth=2, criterion=gini, score=0.963, total=   0.3s\n",
      "[CV] n_estimators=20, max_depth=2, criterion=gini ....................\n",
      "[CV]  n_estimators=20, max_depth=2, criterion=gini, score=0.900, total=   0.2s\n",
      "[CV] n_estimators=20, max_depth=2, criterion=gini ....................\n",
      "[CV]  n_estimators=20, max_depth=2, criterion=gini, score=0.925, total=   0.3s\n",
      "[CV] n_estimators=20, max_depth=2, criterion=gini ....................\n",
      "[CV]  n_estimators=20, max_depth=2, criterion=gini, score=0.937, total=   0.2s\n",
      "[CV] n_estimators=20, max_depth=2, criterion=gini ....................\n",
      "[CV]  n_estimators=20, max_depth=2, criterion=gini, score=0.962, total=   0.3s\n",
      "[CV] n_estimators=20, max_depth=3, criterion=gini ....................\n",
      "[CV]  n_estimators=20, max_depth=3, criterion=gini, score=0.963, total=   0.2s\n",
      "[CV] n_estimators=20, max_depth=3, criterion=gini ....................\n",
      "[CV]  n_estimators=20, max_depth=3, criterion=gini, score=0.912, total=   0.2s\n",
      "[CV] n_estimators=20, max_depth=3, criterion=gini ....................\n",
      "[CV]  n_estimators=20, max_depth=3, criterion=gini, score=0.938, total=   0.2s\n",
      "[CV] n_estimators=20, max_depth=3, criterion=gini ....................\n",
      "[CV]  n_estimators=20, max_depth=3, criterion=gini, score=0.949, total=   0.4s\n",
      "[CV] n_estimators=20, max_depth=3, criterion=gini ....................\n",
      "[CV]  n_estimators=20, max_depth=3, criterion=gini, score=0.962, total=   0.2s\n",
      "[CV] n_estimators=100, max_depth=5, criterion=gini ...................\n",
      "[CV]  n_estimators=100, max_depth=5, criterion=gini, score=0.975, total=   1.1s\n",
      "[CV] n_estimators=100, max_depth=5, criterion=gini ...................\n",
      "[CV]  n_estimators=100, max_depth=5, criterion=gini, score=0.900, total=   1.2s\n",
      "[CV] n_estimators=100, max_depth=5, criterion=gini ...................\n",
      "[CV]  n_estimators=100, max_depth=5, criterion=gini, score=0.963, total=   1.1s\n",
      "[CV] n_estimators=100, max_depth=5, criterion=gini ...................\n",
      "[CV]  n_estimators=100, max_depth=5, criterion=gini, score=0.949, total=   1.1s\n",
      "[CV] n_estimators=100, max_depth=5, criterion=gini ...................\n",
      "[CV]  n_estimators=100, max_depth=5, criterion=gini, score=0.962, total=   1.1s\n",
      "RandomForestClassifier(criterion='entropy', max_depth=5, n_estimators=10)\n",
      "{'n_estimators': 10, 'max_depth': 5, 'criterion': 'entropy'}\n"
     ]
    },
    {
     "name": "stderr",
     "output_type": "stream",
     "text": [
      "[Parallel(n_jobs=1)]: Done  50 out of  50 | elapsed:   32.9s finished\n"
     ]
    }
   ],
   "source": [
    "#now the above problem is overfitting, to avoid this we tune the hyperparamaeters\n",
    "#Hyperparameter tuning\n",
    "params={\n",
    "    'n_estimators'   :  [10,20,50,100,200],\n",
    "    'max_depth'      :  [2,3,4,5,6],\n",
    "    'criterion'      :  ['gini','entropy']\n",
    "    \n",
    "}\n",
    "\n",
    "from sklearn.model_selection import RandomizedSearchCV,GridSearchCV\n",
    "random_search=RandomizedSearchCV(rf,param_distributions=params,verbose=3)\n",
    "random_search.fit(x_train,y_train)\n",
    "\n",
    "print(random_search.best_estimator_)\n",
    "print(random_search.best_params_)"
   ]
  },
  {
   "cell_type": "code",
   "execution_count": 21,
   "metadata": {},
   "outputs": [
    {
     "name": "stdout",
     "output_type": "stream",
     "text": [
      " the mean cross_val_score of rf is 0.9573717948717949\n",
      "              precision    recall  f1-score   support\n",
      "\n",
      "           0       0.99      1.00      0.99       249\n",
      "           1       1.00      0.98      0.99       149\n",
      "\n",
      "    accuracy                           0.99       398\n",
      "   macro avg       0.99      0.99      0.99       398\n",
      "weighted avg       0.99      0.99      0.99       398\n",
      "\n",
      "              precision    recall  f1-score   support\n",
      "\n",
      "           0       0.97      0.96      0.97       108\n",
      "           1       0.94      0.95      0.94        63\n",
      "\n",
      "    accuracy                           0.96       171\n",
      "   macro avg       0.95      0.96      0.96       171\n",
      "weighted avg       0.96      0.96      0.96       171\n",
      "\n",
      "the accuracy_score of rf is 0.9590643274853801\n"
     ]
    },
    {
     "data": {
      "image/png": "[encoded data removed]",
      "text/plain": [
       "<Figure size 432x288 with 2 Axes>"
      ]
     },
     "metadata": {
      "needs_background": "light"
     },
     "output_type": "display_data"
    }
   ],
   "source": [
    "#Applying Hyper parameter tuning \n",
    "from sklearn.ensemble import RandomForestClassifier as RFC\n",
    "rf=RFC(n_estimators=100,max_depth=5,criterion='gini')\n",
    "rf.fit(x_train,y_train)\n",
    "rf_pred_train=rf.predict(x_train)\n",
    "rf_pred_test=rf.predict(x_test)\n",
    "rf_pred_proba=rf.predict_proba(x_test)\n",
    "\n",
    "#metrics\n",
    "from sklearn.metrics import confusion_matrix,classification_report,accuracy_score\n",
    "from sklearn.model_selection import cross_val_score\n",
    "import seaborn as sns\n",
    "cvs=cross_val_score(rf,x_train,y_train,scoring='accuracy',cv=10)\n",
    "print(\" the mean cross_val_score of rf is\",cvs.mean())\n",
    "cm=confusion_matrix(y_test,rf_pred_test)\n",
    "sns.heatmap(cm,annot=True)\n",
    "print(classification_report(y_train,rf_pred_train))\n",
    "print(classification_report(y_test,rf_pred_test))\n",
    "print(\"the accuracy_score of rf is\",accuracy_score(y_test,rf_pred_test))"
   ]
  },
  {
   "cell_type": "code",
   "execution_count": 22,
   "metadata": {},
   "outputs": [
    {
     "data": {
      "image/png": "[encoded data removed]",
      "text/plain": [
       "<Figure size 432x288 with 1 Axes>"
      ]
     },
     "metadata": {
      "needs_background": "light"
     },
     "output_type": "display_data"
    }
   ],
   "source": [
    "#precision_recall_curve\n",
    "from sklearn.metrics import precision_recall_curve as prc\n",
    "precision_points,recall_points,threshold_points=prc(y_test,rf_pred_proba[:,1])\n",
    "plt.plot(threshold_points,precision_points[:-1],label=\"precision_curve\",color='red')\n",
    "plt.plot(threshold_points,recall_points[:-1],label='recall_curve',color='blue')\n",
    "plt.legend()\n",
    "plt.show()\n",
    "\n",
    "#the below intersection is near 0.5, which is a good threshold"
   ]
  },
  {
   "cell_type": "code",
   "execution_count": 23,
   "metadata": {},
   "outputs": [
    {
     "name": "stdout",
     "output_type": "stream",
     "text": [
      "              precision    recall  f1-score   support\n",
      "\n",
      "           0       1.00      1.00      1.00       249\n",
      "           1       1.00      1.00      1.00       149\n",
      "\n",
      "    accuracy                           1.00       398\n",
      "   macro avg       1.00      1.00      1.00       398\n",
      "weighted avg       1.00      1.00      1.00       398\n",
      "\n",
      "              precision    recall  f1-score   support\n",
      "\n",
      "           0       0.98      0.96      0.97       108\n",
      "           1       0.94      0.97      0.95        63\n",
      "\n",
      "    accuracy                           0.96       171\n",
      "   macro avg       0.96      0.97      0.96       171\n",
      "weighted avg       0.97      0.96      0.97       171\n",
      "\n",
      "the mean cross_val_score of adaboost is: 0.9547435897435899\n",
      "the accuracy score of adaboost is: 0.9649122807017544\n"
     ]
    },
    {
     "data": {
      "image/png": "[encoded data removed]",
      "text/plain": [
       "<Figure size 432x288 with 2 Axes>"
      ]
     },
     "metadata": {
      "needs_background": "light"
     },
     "output_type": "display_data"
    }
   ],
   "source": [
    "#Adaboostclassifier\n",
    "\n",
    "from sklearn.ensemble import AdaBoostClassifier\n",
    "ada=AdaBoostClassifier()\n",
    "ada.fit(x_train,y_train)\n",
    "ada_pred_train=ada.predict(x_train)\n",
    "ada_pred_test=ada.predict(x_test)\n",
    "ada_pred_proba=ada.predict_proba(x_test)\n",
    "\n",
    "#metrics\n",
    "from sklearn.metrics import classification_report,confusion_matrix,accuracy_score\n",
    "import seaborn as sns\n",
    "from sklearn.model_selection import cross_val_score\n",
    "cm=confusion_matrix(y_test,ada_pred_test)\n",
    "sns.heatmap(cm,annot=True)\n",
    "print(classification_report(y_train,ada_pred_train))\n",
    "print(classification_report(y_test,ada_pred_test))\n",
    "cvs=cross_val_score(ada,x_train,y_train,cv=10,scoring='accuracy')\n",
    "print(\"the mean cross_val_score of adaboost is:\",cvs.mean())\n",
    "print(\"the accuracy score of adaboost is:\",accuracy_score(y_test,ada_pred_test))"
   ]
  },
  {
   "cell_type": "code",
   "execution_count": 24,
   "metadata": {},
   "outputs": [
    {
     "name": "stdout",
     "output_type": "stream",
     "text": [
      "Fitting 5 folds for each of 3 candidates, totalling 15 fits\n",
      "[CV] n_estimators=30, learning_rate=0.1 ..............................\n"
     ]
    },
    {
     "name": "stderr",
     "output_type": "stream",
     "text": [
      "[Parallel(n_jobs=1)]: Using backend SequentialBackend with 1 concurrent workers.\n"
     ]
    },
    {
     "name": "stdout",
     "output_type": "stream",
     "text": [
      "[CV] .. n_estimators=30, learning_rate=0.1, score=0.963, total=   0.6s\n",
      "[CV] n_estimators=30, learning_rate=0.1 ..............................\n"
     ]
    },
    {
     "name": "stderr",
     "output_type": "stream",
     "text": [
      "[Parallel(n_jobs=1)]: Done   1 out of   1 | elapsed:    0.5s remaining:    0.0s\n"
     ]
    },
    {
     "name": "stdout",
     "output_type": "stream",
     "text": [
      "[CV] .. n_estimators=30, learning_rate=0.1, score=0.912, total=   0.5s\n",
      "[CV] n_estimators=30, learning_rate=0.1 ..............................\n"
     ]
    },
    {
     "name": "stderr",
     "output_type": "stream",
     "text": [
      "[Parallel(n_jobs=1)]: Done   2 out of   2 | elapsed:    1.1s remaining:    0.0s\n"
     ]
    },
    {
     "name": "stdout",
     "output_type": "stream",
     "text": [
      "[CV] .. n_estimators=30, learning_rate=0.1, score=0.938, total=   0.5s\n",
      "[CV] n_estimators=30, learning_rate=0.1 ..............................\n",
      "[CV] .. n_estimators=30, learning_rate=0.1, score=0.937, total=   0.5s\n",
      "[CV] n_estimators=30, learning_rate=0.1 ..............................\n",
      "[CV] .. n_estimators=30, learning_rate=0.1, score=0.924, total=   0.5s\n",
      "[CV] n_estimators=20, learning_rate=0.7 ..............................\n",
      "[CV] .. n_estimators=20, learning_rate=0.7, score=0.975, total=   0.3s\n",
      "[CV] n_estimators=20, learning_rate=0.7 ..............................\n",
      "[CV] .. n_estimators=20, learning_rate=0.7, score=0.925, total=   0.3s\n",
      "[CV] n_estimators=20, learning_rate=0.7 ..............................\n",
      "[CV] .. n_estimators=20, learning_rate=0.7, score=0.975, total=   0.3s\n",
      "[CV] n_estimators=20, learning_rate=0.7 ..............................\n",
      "[CV] .. n_estimators=20, learning_rate=0.7, score=0.937, total=   0.3s\n",
      "[CV] n_estimators=20, learning_rate=0.7 ..............................\n",
      "[CV] .. n_estimators=20, learning_rate=0.7, score=0.937, total=   0.3s\n",
      "[CV] n_estimators=20, learning_rate=0.01 .............................\n",
      "[CV] . n_estimators=20, learning_rate=0.01, score=0.912, total=   0.3s\n",
      "[CV] n_estimators=20, learning_rate=0.01 .............................\n",
      "[CV] . n_estimators=20, learning_rate=0.01, score=0.900, total=   0.3s\n",
      "[CV] n_estimators=20, learning_rate=0.01 .............................\n",
      "[CV] . n_estimators=20, learning_rate=0.01, score=0.887, total=   0.3s\n",
      "[CV] n_estimators=20, learning_rate=0.01 .............................\n",
      "[CV] . n_estimators=20, learning_rate=0.01, score=0.937, total=   0.3s\n",
      "[CV] n_estimators=20, learning_rate=0.01 .............................\n",
      "[CV] . n_estimators=20, learning_rate=0.01, score=0.861, total=   0.3s\n"
     ]
    },
    {
     "name": "stderr",
     "output_type": "stream",
     "text": [
      "[Parallel(n_jobs=1)]: Done  15 out of  15 | elapsed:    5.8s finished\n"
     ]
    },
    {
     "name": "stdout",
     "output_type": "stream",
     "text": [
      "AdaBoostClassifier(learning_rate=0.7, n_estimators=20)\n",
      "{'n_estimators': 20, 'learning_rate': 0.7}\n"
     ]
    }
   ],
   "source": [
    "#the above metrics results in overfitting of the model,\n",
    "#to avoid this, we use HyperPrameter Tuning\n",
    "params={\n",
    "    'n_estimators'    :  [20,30,50,100.150],\n",
    "    'learning_rate'   :  [0.1,0.01,0.5,0.7]\n",
    "}\n",
    "\n",
    "from sklearn.model_selection import RandomizedSearchCV,GridSearchCV\n",
    "random_search=RandomizedSearchCV(ada,param_distributions=params,scoring='accuracy',n_jobs=1,n_iter=3,verbose=3)\n",
    "random_search.fit(x_train,y_train)\n",
    "\n",
    "print(random_search.best_estimator_)\n",
    "print(random_search.best_params_)"
   ]
  },
  {
   "cell_type": "code",
   "execution_count": 25,
   "metadata": {},
   "outputs": [
    {
     "name": "stdout",
     "output_type": "stream",
     "text": [
      "              precision    recall  f1-score   support\n",
      "\n",
      "           0       0.94      0.98      0.96       249\n",
      "           1       0.96      0.89      0.92       149\n",
      "\n",
      "    accuracy                           0.94       398\n",
      "   macro avg       0.95      0.93      0.94       398\n",
      "weighted avg       0.95      0.94      0.94       398\n",
      "\n",
      "              precision    recall  f1-score   support\n",
      "\n",
      "           0       0.93      0.99      0.96       108\n",
      "           1       0.98      0.87      0.92        63\n",
      "\n",
      "    accuracy                           0.95       171\n",
      "   macro avg       0.96      0.93      0.94       171\n",
      "weighted avg       0.95      0.95      0.95       171\n",
      "\n",
      "the mean cross_val_score of adaboost is: 0.9169871794871796\n",
      "the accuracy score of adaboost is: 0.9473684210526315\n"
     ]
    },
    {
     "data": {
      "image/png": "[encoded data removed]",
      "text/plain": [
       "<Figure size 432x288 with 2 Axes>"
      ]
     },
     "metadata": {
      "needs_background": "light"
     },
     "output_type": "display_data"
    }
   ],
   "source": [
    "#applying the Hyperparameter estimator for AdaBoostclassifier\n",
    "from sklearn.ensemble import AdaBoostClassifier\n",
    "ada=AdaBoostClassifier(n_estimators=50,learning_rate=0.01)\n",
    "ada.fit(x_train,y_train)\n",
    "ada_pred_train=ada.predict(x_train)\n",
    "ada_pred_test=ada.predict(x_test)\n",
    "ada_pred_proba=ada.predict_proba(x_test)\n",
    "\n",
    "#metrics\n",
    "from sklearn.metrics import classification_report,confusion_matrix,accuracy_score\n",
    "import seaborn as sns\n",
    "from sklearn.model_selection import cross_val_score\n",
    "cm=confusion_matrix(y_test,ada_pred_test)\n",
    "sns.heatmap(cm,annot=True)\n",
    "print(classification_report(y_train,ada_pred_train))\n",
    "print(classification_report(y_test,ada_pred_test))\n",
    "cvs=cross_val_score(ada,x_train,y_train,cv=10,scoring='accuracy')\n",
    "print(\"the mean cross_val_score of adaboost is:\",cvs.mean())\n",
    "print(\"the accuracy score of adaboost is:\",accuracy_score(y_test,ada_pred_test))"
   ]
  },
  {
   "cell_type": "code",
   "execution_count": 26,
   "metadata": {},
   "outputs": [
    {
     "data": {
      "image/png": "[encoded data removed]",
      "text/plain": [
       "<Figure size 432x288 with 1 Axes>"
      ]
     },
     "metadata": {
      "needs_background": "light"
     },
     "output_type": "display_data"
    }
   ],
   "source": [
    "#precision_recall_curve\n",
    "from sklearn.metrics import precision_recall_curve as prc\n",
    "precision_points,recall_points,threshold_points=prc(y_test,ada_pred_proba[:,1])\n",
    "plt.plot(threshold_points,precision_points[:-1],label=\"precision_curve\",color='red')\n",
    "plt.plot(threshold_points,recall_points[:-1],label='recall_curve',color='blue')\n",
    "plt.legend()\n",
    "plt.show()\n",
    "\n",
    "#the below intersection is near to 0.4, which is some what good threshold"
   ]
  },
  {
   "cell_type": "code",
   "execution_count": 39,
   "metadata": {},
   "outputs": [
    {
     "name": "stdout",
     "output_type": "stream",
     "text": [
      "the cross_val_score is: 0.9448076923076923\n",
      "the accuracy_score is: 0.9766081871345029\n",
      "              precision    recall  f1-score   support\n",
      "\n",
      "           0       1.00      1.00      1.00       249\n",
      "           1       1.00      1.00      1.00       149\n",
      "\n",
      "    accuracy                           1.00       398\n",
      "   macro avg       1.00      1.00      1.00       398\n",
      "weighted avg       1.00      1.00      1.00       398\n",
      "\n",
      "              precision    recall  f1-score   support\n",
      "\n",
      "           0       0.98      0.98      0.98       108\n",
      "           1       0.97      0.97      0.97        63\n",
      "\n",
      "    accuracy                           0.98       171\n",
      "   macro avg       0.97      0.97      0.97       171\n",
      "weighted avg       0.98      0.98      0.98       171\n",
      "\n"
     ]
    },
    {
     "data": {
      "image/png": "[encoded data removed]",
      "text/plain": [
       "<Figure size 432x288 with 2 Axes>"
      ]
     },
     "metadata": {
      "needs_background": "light"
     },
     "output_type": "display_data"
    }
   ],
   "source": [
    "#Gradient Boosting Classifier\n",
    "from sklearn.ensemble import GradientBoostingClassifier\n",
    "gb=GradientBoostingClassifier()\n",
    "gb.fit(x_train,y_train)\n",
    "gb_pred_train=gb.predict(x_train)\n",
    "gb_pred_test=gb.predict(x_test)\n",
    "gb_pred_proba=gb.predict_proba(x_test)\n",
    "\n",
    "#metrics\n",
    "from sklearn.metrics import confusion_matrix,classification_report,accuracy_score\n",
    "import seaborn as sns\n",
    "from sklearn.model_selection import cross_val_score\n",
    "cvs=cross_val_score(gb,x_train,y_train,scoring='accuracy',cv=10)\n",
    "print(\"the cross_val_score is:\",cvs.mean())\n",
    "cm=confusion_matrix(y_test,gb_pred_test)\n",
    "sns.heatmap(cm,annot=True)\n",
    "print(\"the accuracy_score is:\",accuracy_score(y_test,gb_pred_test))\n",
    "print(classification_report(y_train,gb_pred_train))\n",
    "print(classification_report(y_test,gb_pred_test))"
   ]
  },
  {
   "cell_type": "code",
   "execution_count": 41,
   "metadata": {},
   "outputs": [
    {
     "name": "stdout",
     "output_type": "stream",
     "text": [
      "Fitting 5 folds for each of 3 candidates, totalling 15 fits\n",
      "[CV] n_estimators=100, max_depth=6, learning_rate=0.2 ................\n"
     ]
    },
    {
     "name": "stderr",
     "output_type": "stream",
     "text": [
      "[Parallel(n_jobs=1)]: Using backend SequentialBackend with 1 concurrent workers.\n"
     ]
    },
    {
     "name": "stdout",
     "output_type": "stream",
     "text": [
      "[CV]  n_estimators=100, max_depth=6, learning_rate=0.2, score=0.925, total=   2.9s\n",
      "[CV] n_estimators=100, max_depth=6, learning_rate=0.2 ................\n"
     ]
    },
    {
     "name": "stderr",
     "output_type": "stream",
     "text": [
      "[Parallel(n_jobs=1)]: Done   1 out of   1 | elapsed:    2.8s remaining:    0.0s\n"
     ]
    },
    {
     "name": "stdout",
     "output_type": "stream",
     "text": [
      "[CV]  n_estimators=100, max_depth=6, learning_rate=0.2, score=0.912, total=   2.5s\n",
      "[CV] n_estimators=100, max_depth=6, learning_rate=0.2 ................\n"
     ]
    },
    {
     "name": "stderr",
     "output_type": "stream",
     "text": [
      "[Parallel(n_jobs=1)]: Done   2 out of   2 | elapsed:    5.3s remaining:    0.0s\n"
     ]
    },
    {
     "name": "stdout",
     "output_type": "stream",
     "text": [
      "[CV]  n_estimators=100, max_depth=6, learning_rate=0.2, score=0.925, total=   2.7s\n",
      "[CV] n_estimators=100, max_depth=6, learning_rate=0.2 ................\n",
      "[CV]  n_estimators=100, max_depth=6, learning_rate=0.2, score=0.924, total=   2.8s\n",
      "[CV] n_estimators=100, max_depth=6, learning_rate=0.2 ................\n",
      "[CV]  n_estimators=100, max_depth=6, learning_rate=0.2, score=0.899, total=   2.9s\n",
      "[CV] n_estimators=10, max_depth=3, learning_rate=0.3 .................\n",
      "[CV]  n_estimators=10, max_depth=3, learning_rate=0.3, score=0.950, total=   0.2s\n",
      "[CV] n_estimators=10, max_depth=3, learning_rate=0.3 .................\n",
      "[CV]  n_estimators=10, max_depth=3, learning_rate=0.3, score=0.912, total=   0.2s\n",
      "[CV] n_estimators=10, max_depth=3, learning_rate=0.3 .................\n",
      "[CV]  n_estimators=10, max_depth=3, learning_rate=0.3, score=0.938, total=   0.2s\n",
      "[CV] n_estimators=10, max_depth=3, learning_rate=0.3 .................\n",
      "[CV]  n_estimators=10, max_depth=3, learning_rate=0.3, score=0.949, total=   0.2s\n",
      "[CV] n_estimators=10, max_depth=3, learning_rate=0.3 .................\n",
      "[CV]  n_estimators=10, max_depth=3, learning_rate=0.3, score=0.924, total=   0.2s\n",
      "[CV] n_estimators=20, max_depth=4, learning_rate=0.1 .................\n",
      "[CV]  n_estimators=20, max_depth=4, learning_rate=0.1, score=0.912, total=   0.4s\n",
      "[CV] n_estimators=20, max_depth=4, learning_rate=0.1 .................\n",
      "[CV]  n_estimators=20, max_depth=4, learning_rate=0.1, score=0.900, total=   0.4s\n",
      "[CV] n_estimators=20, max_depth=4, learning_rate=0.1 .................\n",
      "[CV]  n_estimators=20, max_depth=4, learning_rate=0.1, score=0.975, total=   0.4s\n",
      "[CV] n_estimators=20, max_depth=4, learning_rate=0.1 .................\n",
      "[CV]  n_estimators=20, max_depth=4, learning_rate=0.1, score=0.937, total=   0.4s\n",
      "[CV] n_estimators=20, max_depth=4, learning_rate=0.1 .................\n",
      "[CV]  n_estimators=20, max_depth=4, learning_rate=0.1, score=0.937, total=   0.4s\n"
     ]
    },
    {
     "name": "stderr",
     "output_type": "stream",
     "text": [
      "[Parallel(n_jobs=1)]: Done  15 out of  15 | elapsed:   16.7s finished\n"
     ]
    },
    {
     "name": "stdout",
     "output_type": "stream",
     "text": [
      "GradientBoostingClassifier(learning_rate=0.3, n_estimators=10)\n",
      "{'n_estimators': 10, 'max_depth': 3, 'learning_rate': 0.3}\n"
     ]
    }
   ],
   "source": [
    "#hyperparameter tuning\n",
    "params={\n",
    "    'n_estimators'    :  [10,20,30,50,100],\n",
    "    'learning_rate'   :  [0.1,0.2,0.3,0.4,0.5],\n",
    "    'max_depth'       :  [3,4,5,6]\n",
    "}\n",
    "\n",
    "from sklearn.model_selection import RandomizedSearchCV,GridSearchCV\n",
    "random_search=RandomizedSearchCV(gb,param_distributions=params,n_jobs=1,n_iter=3,verbose=3)\n",
    "random_search.fit(x_train,y_train)\n",
    "\n",
    "print(random_search.best_estimator_)\n",
    "print(random_search.best_params_)"
   ]
  },
  {
   "cell_type": "code",
   "execution_count": 43,
   "metadata": {},
   "outputs": [
    {
     "name": "stdout",
     "output_type": "stream",
     "text": [
      "the cross_val_score is: 0.9347435897435897\n",
      "the accuracy_score is: 0.9415204678362573\n",
      "              precision    recall  f1-score   support\n",
      "\n",
      "           0       0.99      1.00      1.00       249\n",
      "           1       1.00      0.99      0.99       149\n",
      "\n",
      "    accuracy                           0.99       398\n",
      "   macro avg       1.00      0.99      0.99       398\n",
      "weighted avg       1.00      0.99      0.99       398\n",
      "\n",
      "              precision    recall  f1-score   support\n",
      "\n",
      "           0       0.95      0.96      0.95       108\n",
      "           1       0.93      0.90      0.92        63\n",
      "\n",
      "    accuracy                           0.94       171\n",
      "   macro avg       0.94      0.93      0.94       171\n",
      "weighted avg       0.94      0.94      0.94       171\n",
      "\n"
     ]
    },
    {
     "data": {
      "image/png": "[encoded data removed]",
      "text/plain": [
       "<Figure size 432x288 with 2 Axes>"
      ]
     },
     "metadata": {
      "needs_background": "light"
     },
     "output_type": "display_data"
    }
   ],
   "source": [
    "#aPPLYING HYPERPARAMETERS for the Gradient Boosting\n",
    "#Gradient Boosting Classifier\n",
    "from sklearn.ensemble import GradientBoostingClassifier\n",
    "gb=GradientBoostingClassifier(n_estimators=10,max_depth=3,learning_rate=0.3)\n",
    "gb.fit(x_train,y_train)\n",
    "gb_pred_train=gb.predict(x_train)\n",
    "gb_pred_test=gb.predict(x_test)\n",
    "gb_pred_proba=gb.predict_proba(x_test)\n",
    "\n",
    "#metrics\n",
    "from sklearn.metrics import confusion_matrix,classification_report,accuracy_score\n",
    "import seaborn as sns\n",
    "from sklearn.model_selection import cross_val_score\n",
    "cvs=cross_val_score(gb,x_train,y_train,scoring='accuracy',cv=10)\n",
    "print(\"the cross_val_score is:\",cvs.mean())\n",
    "cm=confusion_matrix(y_test,gb_pred_test)\n",
    "sns.heatmap(cm,annot=True)\n",
    "print(\"the accuracy_score is:\",accuracy_score(y_test,gb_pred_test))\n",
    "print(classification_report(y_train,gb_pred_train))\n",
    "print(classification_report(y_test,gb_pred_test))"
   ]
  },
  {
   "cell_type": "code",
   "execution_count": 58,
   "metadata": {},
   "outputs": [
    {
     "name": "stdout",
     "output_type": "stream",
     "text": [
      "the cross_val_score is: 0.9674358974358974\n",
      "the accuracy_score is: 0.9766081871345029\n",
      "              precision    recall  f1-score   support\n",
      "\n",
      "           0       1.00      1.00      1.00       249\n",
      "           1       1.00      1.00      1.00       149\n",
      "\n",
      "    accuracy                           1.00       398\n",
      "   macro avg       1.00      1.00      1.00       398\n",
      "weighted avg       1.00      1.00      1.00       398\n",
      "\n",
      "              precision    recall  f1-score   support\n",
      "\n",
      "           0       0.97      0.99      0.98       108\n",
      "           1       0.98      0.95      0.97        63\n",
      "\n",
      "    accuracy                           0.98       171\n",
      "   macro avg       0.98      0.97      0.97       171\n",
      "weighted avg       0.98      0.98      0.98       171\n",
      "\n"
     ]
    }
   ],
   "source": [
    "#Light Gradient Boosting classifier\n",
    "\n",
    "from lightgbm import LGBMClassifier\n",
    "lgbm=LGBMClassifier()\n",
    "lgbm.fit(x_train,y_train)\n",
    "lgbm_pred_train=lgbm.predict(x_train)\n",
    "lgbm_pred_test=lgbm.predict(x_test)\n",
    "lgbm_pred_proba=lgbm.predict_proba(x_test)\n",
    "\n",
    "#metrics\n",
    "from sklearn.metrics import confusion_matrix,classification_report,accuracy_score\n",
    "import seaborn as sns\n",
    "from sklearn.model_selection import cross_val_score\n",
    "cvs=cross_val_score(lgbm,x_train,y_train,scoring='accuracy',cv=10)\n",
    "print(\"the cross_val_score is:\",cvs.mean())\n",
    "print(\"the accuracy_score is:\",accuracy_score(y_test,lgbm_pred_test))\n",
    "cm=confusion_matrix(y_test,lgbm_pred_test)\n",
    "print(classification_report(y_train,lgbm_pred_train))\n",
    "print(classification_report(y_test,lgbm_pred_test))"
   ]
  },
  {
   "cell_type": "code",
   "execution_count": 59,
   "metadata": {},
   "outputs": [
    {
     "name": "stderr",
     "output_type": "stream",
     "text": [
      "D:\\New Volume (D)\\lib\\site-packages\\sklearn\\model_selection\\_search.py:278: UserWarning: The total space of parameters 8 is smaller than n_iter=10. Running 8 iterations. For exhaustive searches, use GridSearchCV.\n",
      "  warnings.warn(\n",
      "[Parallel(n_jobs=1)]: Using backend SequentialBackend with 1 concurrent workers.\n"
     ]
    },
    {
     "name": "stdout",
     "output_type": "stream",
     "text": [
      "Fitting 5 folds for each of 8 candidates, totalling 40 fits\n",
      "[CV] n_estimators=50, learning_rate=0.1 ..............................\n",
      "[CV] .. n_estimators=50, learning_rate=0.1, score=0.975, total=   0.4s\n",
      "[CV] n_estimators=50, learning_rate=0.1 ..............................\n"
     ]
    },
    {
     "name": "stderr",
     "output_type": "stream",
     "text": [
      "[Parallel(n_jobs=1)]: Done   1 out of   1 | elapsed:    0.3s remaining:    0.0s\n"
     ]
    },
    {
     "name": "stdout",
     "output_type": "stream",
     "text": [
      "[CV] .. n_estimators=50, learning_rate=0.1, score=0.925, total=   0.3s\n",
      "[CV] n_estimators=50, learning_rate=0.1 ..............................\n"
     ]
    },
    {
     "name": "stderr",
     "output_type": "stream",
     "text": [
      "[Parallel(n_jobs=1)]: Done   2 out of   2 | elapsed:    0.6s remaining:    0.0s\n"
     ]
    },
    {
     "name": "stdout",
     "output_type": "stream",
     "text": [
      "[CV] .. n_estimators=50, learning_rate=0.1, score=0.975, total=   0.4s\n",
      "[CV] n_estimators=50, learning_rate=0.1 ..............................\n",
      "[CV] .. n_estimators=50, learning_rate=0.1, score=0.975, total=   0.2s\n",
      "[CV] n_estimators=50, learning_rate=0.1 ..............................\n",
      "[CV] .. n_estimators=50, learning_rate=0.1, score=0.937, total=   0.3s\n",
      "[CV] n_estimators=100, learning_rate=0.1 .............................\n",
      "[CV] . n_estimators=100, learning_rate=0.1, score=0.975, total=   0.5s\n",
      "[CV] n_estimators=100, learning_rate=0.1 .............................\n",
      "[CV] . n_estimators=100, learning_rate=0.1, score=0.925, total=   0.6s\n",
      "[CV] n_estimators=100, learning_rate=0.1 .............................\n",
      "[CV] . n_estimators=100, learning_rate=0.1, score=0.975, total=   1.0s\n",
      "[CV] n_estimators=100, learning_rate=0.1 .............................\n",
      "[CV] . n_estimators=100, learning_rate=0.1, score=0.975, total=   0.8s\n",
      "[CV] n_estimators=100, learning_rate=0.1 .............................\n",
      "[CV] . n_estimators=100, learning_rate=0.1, score=0.962, total=   0.8s\n",
      "[CV] n_estimators=50, learning_rate=0.2 ..............................\n",
      "[CV] .. n_estimators=50, learning_rate=0.2, score=0.975, total=   0.6s\n",
      "[CV] n_estimators=50, learning_rate=0.2 ..............................\n",
      "[CV] .. n_estimators=50, learning_rate=0.2, score=0.925, total=   0.5s\n",
      "[CV] n_estimators=50, learning_rate=0.2 ..............................\n",
      "[CV] .. n_estimators=50, learning_rate=0.2, score=0.975, total=   0.6s\n",
      "[CV] n_estimators=50, learning_rate=0.2 ..............................\n",
      "[CV] .. n_estimators=50, learning_rate=0.2, score=0.987, total=   0.4s\n",
      "[CV] n_estimators=50, learning_rate=0.2 ..............................\n",
      "[CV] .. n_estimators=50, learning_rate=0.2, score=0.975, total=   0.5s\n",
      "[CV] n_estimators=100, learning_rate=0.2 .............................\n",
      "[CV] . n_estimators=100, learning_rate=0.2, score=0.975, total=   0.6s\n",
      "[CV] n_estimators=100, learning_rate=0.2 .............................\n",
      "[CV] . n_estimators=100, learning_rate=0.2, score=0.925, total=   0.5s\n",
      "[CV] n_estimators=100, learning_rate=0.2 .............................\n",
      "[CV] . n_estimators=100, learning_rate=0.2, score=0.975, total=   0.4s\n",
      "[CV] n_estimators=100, learning_rate=0.2 .............................\n",
      "[CV] . n_estimators=100, learning_rate=0.2, score=0.975, total=   0.6s\n",
      "[CV] n_estimators=100, learning_rate=0.2 .............................\n",
      "[CV] . n_estimators=100, learning_rate=0.2, score=0.975, total=   0.8s\n",
      "[CV] n_estimators=50, learning_rate=0.3 ..............................\n",
      "[CV] .. n_estimators=50, learning_rate=0.3, score=0.988, total=   0.3s\n",
      "[CV] n_estimators=50, learning_rate=0.3 ..............................\n",
      "[CV] .. n_estimators=50, learning_rate=0.3, score=0.925, total=   0.6s\n",
      "[CV] n_estimators=50, learning_rate=0.3 ..............................\n",
      "[CV] .. n_estimators=50, learning_rate=0.3, score=0.975, total=   0.2s\n",
      "[CV] n_estimators=50, learning_rate=0.3 ..............................\n",
      "[CV] .. n_estimators=50, learning_rate=0.3, score=0.987, total=   0.4s\n",
      "[CV] n_estimators=50, learning_rate=0.3 ..............................\n",
      "[CV] .. n_estimators=50, learning_rate=0.3, score=0.962, total=   0.2s\n",
      "[CV] n_estimators=100, learning_rate=0.3 .............................\n",
      "[CV] . n_estimators=100, learning_rate=0.3, score=0.988, total=   0.4s\n",
      "[CV] n_estimators=100, learning_rate=0.3 .............................\n",
      "[CV] . n_estimators=100, learning_rate=0.3, score=0.925, total=   0.3s\n",
      "[CV] n_estimators=100, learning_rate=0.3 .............................\n",
      "[CV] . n_estimators=100, learning_rate=0.3, score=0.975, total=   0.4s\n",
      "[CV] n_estimators=100, learning_rate=0.3 .............................\n",
      "[CV] . n_estimators=100, learning_rate=0.3, score=0.987, total=   0.3s\n",
      "[CV] n_estimators=100, learning_rate=0.3 .............................\n",
      "[CV] . n_estimators=100, learning_rate=0.3, score=0.962, total=   0.4s\n",
      "[CV] n_estimators=50, learning_rate=0.4 ..............................\n",
      "[CV] .. n_estimators=50, learning_rate=0.4, score=0.988, total=   0.3s\n",
      "[CV] n_estimators=50, learning_rate=0.4 ..............................\n",
      "[CV] .. n_estimators=50, learning_rate=0.4, score=0.925, total=   0.2s\n",
      "[CV] n_estimators=50, learning_rate=0.4 ..............................\n",
      "[CV] .. n_estimators=50, learning_rate=0.4, score=0.963, total=   0.3s\n",
      "[CV] n_estimators=50, learning_rate=0.4 ..............................\n",
      "[CV] .. n_estimators=50, learning_rate=0.4, score=0.987, total=   0.2s\n",
      "[CV] n_estimators=50, learning_rate=0.4 ..............................\n",
      "[CV] .. n_estimators=50, learning_rate=0.4, score=0.962, total=   0.3s\n",
      "[CV] n_estimators=100, learning_rate=0.4 .............................\n",
      "[CV] . n_estimators=100, learning_rate=0.4, score=0.975, total=   0.3s\n",
      "[CV] n_estimators=100, learning_rate=0.4 .............................\n",
      "[CV] . n_estimators=100, learning_rate=0.4, score=0.925, total=   0.3s\n",
      "[CV] n_estimators=100, learning_rate=0.4 .............................\n",
      "[CV] . n_estimators=100, learning_rate=0.4, score=0.975, total=   0.3s\n",
      "[CV] n_estimators=100, learning_rate=0.4 .............................\n",
      "[CV] . n_estimators=100, learning_rate=0.4, score=0.987, total=   0.3s\n",
      "[CV] n_estimators=100, learning_rate=0.4 .............................\n",
      "[CV] . n_estimators=100, learning_rate=0.4, score=0.962, total=   0.3s\n"
     ]
    },
    {
     "name": "stderr",
     "output_type": "stream",
     "text": [
      "[Parallel(n_jobs=1)]: Done  40 out of  40 | elapsed:   17.5s finished\n"
     ]
    },
    {
     "name": "stdout",
     "output_type": "stream",
     "text": [
      "LGBMClassifier(learning_rate=0.2, n_estimators=50)\n",
      "{'n_estimators': 50, 'learning_rate': 0.2}\n"
     ]
    }
   ],
   "source": [
    "#hyper-parameter tuning\n",
    "params={\n",
    "    'n_estimators'    :  [50,100],\n",
    "    'learning_rate'   :  [0.1,0.2,0.3,0.4]\n",
    "}\n",
    "\n",
    "from sklearn.model_selection import RandomizedSearchCV,GridSearchCV\n",
    "random_search=RandomizedSearchCV(lgbm,param_distributions=params,n_jobs=1,verbose=3)\n",
    "random_search.fit(x_train,y_train)\n",
    "\n",
    "print(random_search.best_estimator_)\n",
    "print(random_search.best_params_)"
   ]
  },
  {
   "cell_type": "code",
   "execution_count": 61,
   "metadata": {},
   "outputs": [
    {
     "name": "stdout",
     "output_type": "stream",
     "text": [
      "the cross_val_score is: 0.9674358974358974\n",
      "the accuracy_score is: 0.9883040935672515\n",
      "              precision    recall  f1-score   support\n",
      "\n",
      "           0       1.00      1.00      1.00       249\n",
      "           1       1.00      1.00      1.00       149\n",
      "\n",
      "    accuracy                           1.00       398\n",
      "   macro avg       1.00      1.00      1.00       398\n",
      "weighted avg       1.00      1.00      1.00       398\n",
      "\n",
      "              precision    recall  f1-score   support\n",
      "\n",
      "           0       0.98      1.00      0.99       108\n",
      "           1       1.00      0.97      0.98        63\n",
      "\n",
      "    accuracy                           0.99       171\n",
      "   macro avg       0.99      0.98      0.99       171\n",
      "weighted avg       0.99      0.99      0.99       171\n",
      "\n"
     ]
    }
   ],
   "source": [
    "#Aply hper-parameter for light bgm\n",
    "from lightgbm import LGBMClassifier\n",
    "lgbm=LGBMClassifier(n_estimators=50,learning_rate=0.2)\n",
    "lgbm.fit(x_train,y_train)\n",
    "lgbm_pred_train=lgbm.predict(x_train)\n",
    "lgbm_pred_test=lgbm.predict(x_test)\n",
    "lgbm_pred_proba=lgbm.predict_proba(x_test)\n",
    "\n",
    "#metrics\n",
    "from sklearn.metrics import confusion_matrix,classification_report,accuracy_score\n",
    "import seaborn as sns\n",
    "from sklearn.model_selection import cross_val_score\n",
    "cvs=cross_val_score(lgbm,x_train,y_train,scoring='accuracy',cv=10)\n",
    "print(\"the cross_val_score is:\",cvs.mean())\n",
    "print(\"the accuracy_score is:\",accuracy_score(y_test,lgbm_pred_test))\n",
    "cm=confusion_matrix(y_test,lgbm_pred_test)\n",
    "print(classification_report(y_train,lgbm_pred_train))\n",
    "print(classification_report(y_test,lgbm_pred_test))"
   ]
  },
  {
   "cell_type": "code",
   "execution_count": 27,
   "metadata": {},
   "outputs": [
    {
     "name": "stderr",
     "output_type": "stream",
     "text": [
      "D:\\New Volume (D)\\lib\\site-packages\\xgboost\\sklearn.py:1146: UserWarning: The use of label encoder in XGBClassifier is deprecated and will be removed in a future release. To remove this warning, do the following: 1) Pass option use_label_encoder=False when constructing XGBClassifier object; and 2) Encode your labels (y) as integers starting with 0, i.e. 0, 1, 2, ..., [num_class - 1].\n",
      "  warnings.warn(label_encoder_deprecation_msg, UserWarning)\n"
     ]
    },
    {
     "name": "stdout",
     "output_type": "stream",
     "text": [
      "[10:46:39] WARNING: C:/Users/Administrator/workspace/xgboost-win64_release_1.4.0/src/learner.cc:1095: Starting in XGBoost 1.3.0, the default evaluation metric used with the objective 'binary:logistic' was changed from 'error' to 'logloss'. Explicitly set eval_metric if you'd like to restore the old behavior.\n"
     ]
    },
    {
     "name": "stderr",
     "output_type": "stream",
     "text": [
      "D:\\New Volume (D)\\lib\\site-packages\\xgboost\\sklearn.py:1146: UserWarning: The use of label encoder in XGBClassifier is deprecated and will be removed in a future release. To remove this warning, do the following: 1) Pass option use_label_encoder=False when constructing XGBClassifier object; and 2) Encode your labels (y) as integers starting with 0, i.e. 0, 1, 2, ..., [num_class - 1].\n",
      "  warnings.warn(label_encoder_deprecation_msg, UserWarning)\n"
     ]
    },
    {
     "name": "stdout",
     "output_type": "stream",
     "text": [
      "[10:46:40] WARNING: C:/Users/Administrator/workspace/xgboost-win64_release_1.4.0/src/learner.cc:1095: Starting in XGBoost 1.3.0, the default evaluation metric used with the objective 'binary:logistic' was changed from 'error' to 'logloss'. Explicitly set eval_metric if you'd like to restore the old behavior.\n",
      "[10:46:41] WARNING: C:/Users/Administrator/workspace/xgboost-win64_release_1.4.0/src/learner.cc:1095: Starting in XGBoost 1.3.0, the default evaluation metric used with the objective 'binary:logistic' was changed from 'error' to 'logloss'. Explicitly set eval_metric if you'd like to restore the old behavior.\n",
      "[10:46:41] WARNING: C:/Users/Administrator/workspace/xgboost-win64_release_1.4.0/src/learner.cc:1095: Starting in XGBoost 1.3.0, the default evaluation metric used with the objective 'binary:logistic' was changed from 'error' to 'logloss'. Explicitly set eval_metric if you'd like to restore the old behavior.\n",
      "[10:46:42] WARNING: C:/Users/Administrator/workspace/xgboost-win64_release_1.4.0/src/learner.cc:1095: Starting in XGBoost 1.3.0, the default evaluation metric used with the objective 'binary:logistic' was changed from 'error' to 'logloss'. Explicitly set eval_metric if you'd like to restore the old behavior.\n",
      "[10:46:43] WARNING: C:/Users/Administrator/workspace/xgboost-win64_release_1.4.0/src/learner.cc:1095: Starting in XGBoost 1.3.0, the default evaluation metric used with the objective 'binary:logistic' was changed from 'error' to 'logloss'. Explicitly set eval_metric if you'd like to restore the old behavior.\n",
      "[10:46:43] WARNING: C:/Users/Administrator/workspace/xgboost-win64_release_1.4.0/src/learner.cc:1095: Starting in XGBoost 1.3.0, the default evaluation metric used with the objective 'binary:logistic' was changed from 'error' to 'logloss'. Explicitly set eval_metric if you'd like to restore the old behavior.\n",
      "[10:46:44] WARNING: C:/Users/Administrator/workspace/xgboost-win64_release_1.4.0/src/learner.cc:1095: Starting in XGBoost 1.3.0, the default evaluation metric used with the objective 'binary:logistic' was changed from 'error' to 'logloss'. Explicitly set eval_metric if you'd like to restore the old behavior.\n",
      "[10:46:44] WARNING: C:/Users/Administrator/workspace/xgboost-win64_release_1.4.0/src/learner.cc:1095: Starting in XGBoost 1.3.0, the default evaluation metric used with the objective 'binary:logistic' was changed from 'error' to 'logloss'. Explicitly set eval_metric if you'd like to restore the old behavior.\n",
      "[10:46:45] WARNING: C:/Users/Administrator/workspace/xgboost-win64_release_1.4.0/src/learner.cc:1095: Starting in XGBoost 1.3.0, the default evaluation metric used with the objective 'binary:logistic' was changed from 'error' to 'logloss'. Explicitly set eval_metric if you'd like to restore the old behavior.\n",
      "[10:46:46] WARNING: C:/Users/Administrator/workspace/xgboost-win64_release_1.4.0/src/learner.cc:1095: Starting in XGBoost 1.3.0, the default evaluation metric used with the objective 'binary:logistic' was changed from 'error' to 'logloss'. Explicitly set eval_metric if you'd like to restore the old behavior.\n",
      "the cross_val_score is: 0.9498076923076922\n",
      "              precision    recall  f1-score   support\n",
      "\n",
      "           0       1.00      1.00      1.00       249\n",
      "           1       1.00      1.00      1.00       149\n",
      "\n",
      "    accuracy                           1.00       398\n",
      "   macro avg       1.00      1.00      1.00       398\n",
      "weighted avg       1.00      1.00      1.00       398\n",
      "\n",
      "              precision    recall  f1-score   support\n",
      "\n",
      "           0       0.97      0.97      0.97       108\n",
      "           1       0.95      0.95      0.95        63\n",
      "\n",
      "    accuracy                           0.96       171\n",
      "   macro avg       0.96      0.96      0.96       171\n",
      "weighted avg       0.96      0.96      0.96       171\n",
      "\n",
      "the accuracy_score is: 0.9649122807017544\n"
     ]
    },
    {
     "data": {
      "text/plain": [
       "<matplotlib.axes._subplots.AxesSubplot at 0x1acfe591370>"
      ]
     },
     "execution_count": 27,
     "metadata": {},
     "output_type": "execute_result"
    },
    {
     "data": {
      "image/png": "[encoded data removed]",
      "text/plain": [
       "<Figure size 432x288 with 2 Axes>"
      ]
     },
     "metadata": {
      "needs_background": "light"
     },
     "output_type": "display_data"
    }
   ],
   "source": [
    "#XG BOOST Classifier\n",
    "from xgboost import XGBClassifier\n",
    "xgb=XGBClassifier()\n",
    "xgb.fit(x_train,y_train)\n",
    "xgb_pred_train=xgb.predict(x_train)\n",
    "xgb_pred_test=xgb.predict(x_test)\n",
    "xgb_pred_proba=xgb.predict_proba(x_test)\n",
    "\n",
    "#metrics\n",
    "from sklearn.metrics  import confusion_matrix,classification_report,accuracy_score\n",
    "import seaborn as sns\n",
    "from sklearn.model_selection import cross_val_score\n",
    "cvs=cross_val_score(xgb,x_train,y_train,cv=10,scoring='accuracy')\n",
    "print(\"the cross_val_score is:\",cvs.mean())\n",
    "print(classification_report(y_train,xgb_pred_train))\n",
    "print(classification_report(y_test,xgb_pred_test))\n",
    "print(\"the accuracy_score is:\",accuracy_score(y_test,xgb_pred_test))\n",
    "cm=confusion_matrix(y_test,knn_pred_test)\n",
    "sns.heatmap(cm,annot=True)"
   ]
  },
  {
   "cell_type": "code",
   "execution_count": 28,
   "metadata": {},
   "outputs": [
    {
     "name": "stdout",
     "output_type": "stream",
     "text": [
      "Fitting 5 folds for each of 5 candidates, totalling 25 fits\n",
      "[CV] n_estimators=100, max_depth=5, learning_rate=0.5 ................\n",
      "[10:46:51] WARNING: C:/Users/Administrator/workspace/xgboost-win64_release_1.4.0/src/learner.cc:1095: Starting in XGBoost 1.3.0, the default evaluation metric used with the objective 'binary:logistic' was changed from 'error' to 'logloss'. Explicitly set eval_metric if you'd like to restore the old behavior.\n"
     ]
    },
    {
     "name": "stderr",
     "output_type": "stream",
     "text": [
      "[Parallel(n_jobs=1)]: Using backend SequentialBackend with 1 concurrent workers.\n",
      "D:\\New Volume (D)\\lib\\site-packages\\xgboost\\sklearn.py:1146: UserWarning: The use of label encoder in XGBClassifier is deprecated and will be removed in a future release. To remove this warning, do the following: 1) Pass option use_label_encoder=False when constructing XGBClassifier object; and 2) Encode your labels (y) as integers starting with 0, i.e. 0, 1, 2, ..., [num_class - 1].\n",
      "  warnings.warn(label_encoder_deprecation_msg, UserWarning)\n"
     ]
    },
    {
     "name": "stdout",
     "output_type": "stream",
     "text": [
      "[CV]  n_estimators=100, max_depth=5, learning_rate=0.5, score=0.988, total=   0.5s\n",
      "[CV] n_estimators=100, max_depth=5, learning_rate=0.5 ................\n",
      "[10:46:51] WARNING: C:/Users/Administrator/workspace/xgboost-win64_release_1.4.0/src/learner.cc:1095: Starting in XGBoost 1.3.0, the default evaluation metric used with the objective 'binary:logistic' was changed from 'error' to 'logloss'. Explicitly set eval_metric if you'd like to restore the old behavior.\n"
     ]
    },
    {
     "name": "stderr",
     "output_type": "stream",
     "text": [
      "[Parallel(n_jobs=1)]: Done   1 out of   1 | elapsed:    0.5s remaining:    0.0s\n"
     ]
    },
    {
     "name": "stdout",
     "output_type": "stream",
     "text": [
      "[CV]  n_estimators=100, max_depth=5, learning_rate=0.5, score=0.912, total=   0.4s\n",
      "[CV] n_estimators=100, max_depth=5, learning_rate=0.5 ................\n",
      "[10:46:52] WARNING: C:/Users/Administrator/workspace/xgboost-win64_release_1.4.0/src/learner.cc:1095: Starting in XGBoost 1.3.0, the default evaluation metric used with the objective 'binary:logistic' was changed from 'error' to 'logloss'. Explicitly set eval_metric if you'd like to restore the old behavior.\n"
     ]
    },
    {
     "name": "stderr",
     "output_type": "stream",
     "text": [
      "[Parallel(n_jobs=1)]: Done   2 out of   2 | elapsed:    0.9s remaining:    0.0s\n"
     ]
    },
    {
     "name": "stdout",
     "output_type": "stream",
     "text": [
      "[CV]  n_estimators=100, max_depth=5, learning_rate=0.5, score=0.963, total=   0.5s\n",
      "[CV] n_estimators=100, max_depth=5, learning_rate=0.5 ................\n",
      "[10:46:52] WARNING: C:/Users/Administrator/workspace/xgboost-win64_release_1.4.0/src/learner.cc:1095: Starting in XGBoost 1.3.0, the default evaluation metric used with the objective 'binary:logistic' was changed from 'error' to 'logloss'. Explicitly set eval_metric if you'd like to restore the old behavior.\n",
      "[CV]  n_estimators=100, max_depth=5, learning_rate=0.5, score=0.962, total=   0.5s\n",
      "[CV] n_estimators=100, max_depth=5, learning_rate=0.5 ................\n",
      "[10:46:53] WARNING: C:/Users/Administrator/workspace/xgboost-win64_release_1.4.0/src/learner.cc:1095: Starting in XGBoost 1.3.0, the default evaluation metric used with the objective 'binary:logistic' was changed from 'error' to 'logloss'. Explicitly set eval_metric if you'd like to restore the old behavior.\n",
      "[CV]  n_estimators=100, max_depth=5, learning_rate=0.5, score=0.937, total=   0.5s\n",
      "[CV] n_estimators=20, max_depth=6, learning_rate=0.5 .................\n",
      "[10:46:53] WARNING: C:/Users/Administrator/workspace/xgboost-win64_release_1.4.0/src/learner.cc:1095: Starting in XGBoost 1.3.0, the default evaluation metric used with the objective 'binary:logistic' was changed from 'error' to 'logloss'. Explicitly set eval_metric if you'd like to restore the old behavior.\n",
      "[CV]  n_estimators=20, max_depth=6, learning_rate=0.5, score=0.988, total=   0.2s\n",
      "[CV] n_estimators=20, max_depth=6, learning_rate=0.5 .................\n",
      "[10:46:54] WARNING: C:/Users/Administrator/workspace/xgboost-win64_release_1.4.0/src/learner.cc:1095: Starting in XGBoost 1.3.0, the default evaluation metric used with the objective 'binary:logistic' was changed from 'error' to 'logloss'. Explicitly set eval_metric if you'd like to restore the old behavior.\n",
      "[CV]  n_estimators=20, max_depth=6, learning_rate=0.5, score=0.912, total=   0.2s\n",
      "[CV] n_estimators=20, max_depth=6, learning_rate=0.5 .................\n",
      "[10:46:54] WARNING: C:/Users/Administrator/workspace/xgboost-win64_release_1.4.0/src/learner.cc:1095: Starting in XGBoost 1.3.0, the default evaluation metric used with the objective 'binary:logistic' was changed from 'error' to 'logloss'. Explicitly set eval_metric if you'd like to restore the old behavior.\n",
      "[CV]  n_estimators=20, max_depth=6, learning_rate=0.5, score=0.975, total=   0.2s\n",
      "[CV] n_estimators=20, max_depth=6, learning_rate=0.5 .................\n",
      "[10:46:54] WARNING: C:/Users/Administrator/workspace/xgboost-win64_release_1.4.0/src/learner.cc:1095: Starting in XGBoost 1.3.0, the default evaluation metric used with the objective 'binary:logistic' was changed from 'error' to 'logloss'. Explicitly set eval_metric if you'd like to restore the old behavior.\n",
      "[CV]  n_estimators=20, max_depth=6, learning_rate=0.5, score=0.949, total=   0.2s\n",
      "[CV] n_estimators=20, max_depth=6, learning_rate=0.5 .................\n",
      "[10:46:54] WARNING: C:/Users/Administrator/workspace/xgboost-win64_release_1.4.0/src/learner.cc:1095: Starting in XGBoost 1.3.0, the default evaluation metric used with the objective 'binary:logistic' was changed from 'error' to 'logloss'. Explicitly set eval_metric if you'd like to restore the old behavior.\n",
      "[CV]  n_estimators=20, max_depth=6, learning_rate=0.5, score=0.937, total=   0.2s\n",
      "[CV] n_estimators=50, max_depth=5, learning_rate=0.1 .................\n",
      "[10:46:55] WARNING: C:/Users/Administrator/workspace/xgboost-win64_release_1.4.0/src/learner.cc:1095: Starting in XGBoost 1.3.0, the default evaluation metric used with the objective 'binary:logistic' was changed from 'error' to 'logloss'. Explicitly set eval_metric if you'd like to restore the old behavior.\n",
      "[CV]  n_estimators=50, max_depth=5, learning_rate=0.1, score=0.975, total=   0.5s\n",
      "[CV] n_estimators=50, max_depth=5, learning_rate=0.1 .................\n",
      "[10:46:55] WARNING: C:/Users/Administrator/workspace/xgboost-win64_release_1.4.0/src/learner.cc:1095: Starting in XGBoost 1.3.0, the default evaluation metric used with the objective 'binary:logistic' was changed from 'error' to 'logloss'. Explicitly set eval_metric if you'd like to restore the old behavior.\n",
      "[CV]  n_estimators=50, max_depth=5, learning_rate=0.1, score=0.912, total=   0.6s\n",
      "[CV] n_estimators=50, max_depth=5, learning_rate=0.1 .................\n",
      "[10:46:56] WARNING: C:/Users/Administrator/workspace/xgboost-win64_release_1.4.0/src/learner.cc:1095: Starting in XGBoost 1.3.0, the default evaluation metric used with the objective 'binary:logistic' was changed from 'error' to 'logloss'. Explicitly set eval_metric if you'd like to restore the old behavior.\n",
      "[CV]  n_estimators=50, max_depth=5, learning_rate=0.1, score=0.950, total=   0.5s\n",
      "[CV] n_estimators=50, max_depth=5, learning_rate=0.1 .................\n",
      "[10:46:56] WARNING: C:/Users/Administrator/workspace/xgboost-win64_release_1.4.0/src/learner.cc:1095: Starting in XGBoost 1.3.0, the default evaluation metric used with the objective 'binary:logistic' was changed from 'error' to 'logloss'. Explicitly set eval_metric if you'd like to restore the old behavior.\n",
      "[CV]  n_estimators=50, max_depth=5, learning_rate=0.1, score=0.949, total=   0.6s\n",
      "[CV] n_estimators=50, max_depth=5, learning_rate=0.1 .................\n",
      "[10:46:57] WARNING: C:/Users/Administrator/workspace/xgboost-win64_release_1.4.0/src/learner.cc:1095: Starting in XGBoost 1.3.0, the default evaluation metric used with the objective 'binary:logistic' was changed from 'error' to 'logloss'. Explicitly set eval_metric if you'd like to restore the old behavior.\n",
      "[CV]  n_estimators=50, max_depth=5, learning_rate=0.1, score=0.937, total=   0.6s\n",
      "[CV] n_estimators=10, max_depth=6, learning_rate=0.1 .................\n",
      "[10:46:57] WARNING: C:/Users/Administrator/workspace/xgboost-win64_release_1.4.0/src/learner.cc:1095: Starting in XGBoost 1.3.0, the default evaluation metric used with the objective 'binary:logistic' was changed from 'error' to 'logloss'. Explicitly set eval_metric if you'd like to restore the old behavior.\n",
      "[CV]  n_estimators=10, max_depth=6, learning_rate=0.1, score=0.950, total=   0.2s\n",
      "[CV] n_estimators=10, max_depth=6, learning_rate=0.1 .................\n",
      "[10:46:58] WARNING: C:/Users/Administrator/workspace/xgboost-win64_release_1.4.0/src/learner.cc:1095: Starting in XGBoost 1.3.0, the default evaluation metric used with the objective 'binary:logistic' was changed from 'error' to 'logloss'. Explicitly set eval_metric if you'd like to restore the old behavior.\n",
      "[CV]  n_estimators=10, max_depth=6, learning_rate=0.1, score=0.912, total=   0.2s\n",
      "[CV] n_estimators=10, max_depth=6, learning_rate=0.1 .................\n",
      "[10:46:58] WARNING: C:/Users/Administrator/workspace/xgboost-win64_release_1.4.0/src/learner.cc:1095: Starting in XGBoost 1.3.0, the default evaluation metric used with the objective 'binary:logistic' was changed from 'error' to 'logloss'. Explicitly set eval_metric if you'd like to restore the old behavior.\n",
      "[CV]  n_estimators=10, max_depth=6, learning_rate=0.1, score=0.912, total=   0.2s\n",
      "[CV] n_estimators=10, max_depth=6, learning_rate=0.1 .................\n",
      "[10:46:58] WARNING: C:/Users/Administrator/workspace/xgboost-win64_release_1.4.0/src/learner.cc:1095: Starting in XGBoost 1.3.0, the default evaluation metric used with the objective 'binary:logistic' was changed from 'error' to 'logloss'. Explicitly set eval_metric if you'd like to restore the old behavior.\n",
      "[CV]  n_estimators=10, max_depth=6, learning_rate=0.1, score=0.937, total=   0.2s\n",
      "[CV] n_estimators=10, max_depth=6, learning_rate=0.1 .................\n",
      "[10:46:58] WARNING: C:/Users/Administrator/workspace/xgboost-win64_release_1.4.0/src/learner.cc:1095: Starting in XGBoost 1.3.0, the default evaluation metric used with the objective 'binary:logistic' was changed from 'error' to 'logloss'. Explicitly set eval_metric if you'd like to restore the old behavior.\n",
      "[CV]  n_estimators=10, max_depth=6, learning_rate=0.1, score=0.899, total=   0.3s\n",
      "[CV] n_estimators=10, max_depth=3, learning_rate=0.01 ................\n",
      "[10:46:59] WARNING: C:/Users/Administrator/workspace/xgboost-win64_release_1.4.0/src/learner.cc:1095: Starting in XGBoost 1.3.0, the default evaluation metric used with the objective 'binary:logistic' was changed from 'error' to 'logloss'. Explicitly set eval_metric if you'd like to restore the old behavior.\n",
      "[CV]  n_estimators=10, max_depth=3, learning_rate=0.01, score=0.925, total=   0.2s\n",
      "[CV] n_estimators=10, max_depth=3, learning_rate=0.01 ................\n",
      "[10:46:59] WARNING: C:/Users/Administrator/workspace/xgboost-win64_release_1.4.0/src/learner.cc:1095: Starting in XGBoost 1.3.0, the default evaluation metric used with the objective 'binary:logistic' was changed from 'error' to 'logloss'. Explicitly set eval_metric if you'd like to restore the old behavior.\n",
      "[CV]  n_estimators=10, max_depth=3, learning_rate=0.01, score=0.900, total=   0.2s\n",
      "[CV] n_estimators=10, max_depth=3, learning_rate=0.01 ................\n",
      "[10:46:59] WARNING: C:/Users/Administrator/workspace/xgboost-win64_release_1.4.0/src/learner.cc:1095: Starting in XGBoost 1.3.0, the default evaluation metric used with the objective 'binary:logistic' was changed from 'error' to 'logloss'. Explicitly set eval_metric if you'd like to restore the old behavior.\n",
      "[CV]  n_estimators=10, max_depth=3, learning_rate=0.01, score=0.912, total=   0.2s\n",
      "[CV] n_estimators=10, max_depth=3, learning_rate=0.01 ................\n",
      "[10:46:59] WARNING: C:/Users/Administrator/workspace/xgboost-win64_release_1.4.0/src/learner.cc:1095: Starting in XGBoost 1.3.0, the default evaluation metric used with the objective 'binary:logistic' was changed from 'error' to 'logloss'. Explicitly set eval_metric if you'd like to restore the old behavior.\n",
      "[CV]  n_estimators=10, max_depth=3, learning_rate=0.01, score=0.911, total=   0.3s\n",
      "[CV] n_estimators=10, max_depth=3, learning_rate=0.01 ................\n",
      "[10:47:00] WARNING: C:/Users/Administrator/workspace/xgboost-win64_release_1.4.0/src/learner.cc:1095: Starting in XGBoost 1.3.0, the default evaluation metric used with the objective 'binary:logistic' was changed from 'error' to 'logloss'. Explicitly set eval_metric if you'd like to restore the old behavior.\n",
      "[CV]  n_estimators=10, max_depth=3, learning_rate=0.01, score=0.924, total=   0.3s\n"
     ]
    },
    {
     "name": "stderr",
     "output_type": "stream",
     "text": [
      "[Parallel(n_jobs=1)]: Done  25 out of  25 | elapsed:    8.9s finished\n"
     ]
    },
    {
     "name": "stdout",
     "output_type": "stream",
     "text": [
      "[10:47:00] WARNING: C:/Users/Administrator/workspace/xgboost-win64_release_1.4.0/src/learner.cc:1095: Starting in XGBoost 1.3.0, the default evaluation metric used with the objective 'binary:logistic' was changed from 'error' to 'logloss'. Explicitly set eval_metric if you'd like to restore the old behavior.\n",
      "XGBClassifier(base_score=0.5, booster='gbtree', colsample_bylevel=1,\n",
      "              colsample_bynode=1, colsample_bytree=1, gamma=0, gpu_id=-1,\n",
      "              importance_type='gain', interaction_constraints='',\n",
      "              learning_rate=0.5, max_delta_step=0, max_depth=5,\n",
      "              min_child_weight=1, missing=nan, monotone_constraints='()',\n",
      "              n_estimators=100, n_jobs=4, num_parallel_tree=1, random_state=0,\n",
      "              reg_alpha=0, reg_lambda=1, scale_pos_weight=1, subsample=1,\n",
      "              tree_method='exact', validate_parameters=1, verbosity=None)\n",
      "{'n_estimators': 100, 'max_depth': 5, 'learning_rate': 0.5}\n"
     ]
    }
   ],
   "source": [
    "params={\n",
    "    'n_estimators'  :  [10,20,30,50,100,200],\n",
    "    'learning_rate' :  [0.1,0.01,0.2,0.5],\n",
    "    'max_depth'     :  [3,5,6]\n",
    "}\n",
    "\n",
    " \n",
    "\n",
    "from sklearn.model_selection import RandomizedSearchCV,GridSearchCV\n",
    "random_search=RandomizedSearchCV(xgb,param_distributions=params,n_jobs=1,n_iter=5,verbose=3)\n",
    "random_search.fit(x_train,y_train)\n",
    "\n",
    "print(random_search.best_estimator_)\n",
    "print(random_search.best_params_)"
   ]
  },
  {
   "cell_type": "code",
   "execution_count": 29,
   "metadata": {},
   "outputs": [
    {
     "name": "stdout",
     "output_type": "stream",
     "text": [
      "[10:47:04] WARNING: C:/Users/Administrator/workspace/xgboost-win64_release_1.4.0/src/learner.cc:1095: Starting in XGBoost 1.3.0, the default evaluation metric used with the objective 'binary:logistic' was changed from 'error' to 'logloss'. Explicitly set eval_metric if you'd like to restore the old behavior.\n"
     ]
    },
    {
     "name": "stderr",
     "output_type": "stream",
     "text": [
      "D:\\New Volume (D)\\lib\\site-packages\\xgboost\\sklearn.py:1146: UserWarning: The use of label encoder in XGBClassifier is deprecated and will be removed in a future release. To remove this warning, do the following: 1) Pass option use_label_encoder=False when constructing XGBClassifier object; and 2) Encode your labels (y) as integers starting with 0, i.e. 0, 1, 2, ..., [num_class - 1].\n",
      "  warnings.warn(label_encoder_deprecation_msg, UserWarning)\n"
     ]
    },
    {
     "name": "stdout",
     "output_type": "stream",
     "text": [
      "[10:47:05] WARNING: C:/Users/Administrator/workspace/xgboost-win64_release_1.4.0/src/learner.cc:1095: Starting in XGBoost 1.3.0, the default evaluation metric used with the objective 'binary:logistic' was changed from 'error' to 'logloss'. Explicitly set eval_metric if you'd like to restore the old behavior.\n",
      "[10:47:06] WARNING: C:/Users/Administrator/workspace/xgboost-win64_release_1.4.0/src/learner.cc:1095: Starting in XGBoost 1.3.0, the default evaluation metric used with the objective 'binary:logistic' was changed from 'error' to 'logloss'. Explicitly set eval_metric if you'd like to restore the old behavior.\n",
      "[10:47:06] WARNING: C:/Users/Administrator/workspace/xgboost-win64_release_1.4.0/src/learner.cc:1095: Starting in XGBoost 1.3.0, the default evaluation metric used with the objective 'binary:logistic' was changed from 'error' to 'logloss'. Explicitly set eval_metric if you'd like to restore the old behavior.\n",
      "[10:47:07] WARNING: C:/Users/Administrator/workspace/xgboost-win64_release_1.4.0/src/learner.cc:1095: Starting in XGBoost 1.3.0, the default evaluation metric used with the objective 'binary:logistic' was changed from 'error' to 'logloss'. Explicitly set eval_metric if you'd like to restore the old behavior.\n",
      "[10:47:07] WARNING: C:/Users/Administrator/workspace/xgboost-win64_release_1.4.0/src/learner.cc:1095: Starting in XGBoost 1.3.0, the default evaluation metric used with the objective 'binary:logistic' was changed from 'error' to 'logloss'. Explicitly set eval_metric if you'd like to restore the old behavior.\n",
      "[10:47:08] WARNING: C:/Users/Administrator/workspace/xgboost-win64_release_1.4.0/src/learner.cc:1095: Starting in XGBoost 1.3.0, the default evaluation metric used with the objective 'binary:logistic' was changed from 'error' to 'logloss'. Explicitly set eval_metric if you'd like to restore the old behavior.\n",
      "[10:47:08] WARNING: C:/Users/Administrator/workspace/xgboost-win64_release_1.4.0/src/learner.cc:1095: Starting in XGBoost 1.3.0, the default evaluation metric used with the objective 'binary:logistic' was changed from 'error' to 'logloss'. Explicitly set eval_metric if you'd like to restore the old behavior.\n",
      "[10:47:09] WARNING: C:/Users/Administrator/workspace/xgboost-win64_release_1.4.0/src/learner.cc:1095: Starting in XGBoost 1.3.0, the default evaluation metric used with the objective 'binary:logistic' was changed from 'error' to 'logloss'. Explicitly set eval_metric if you'd like to restore the old behavior.\n",
      "[10:47:09] WARNING: C:/Users/Administrator/workspace/xgboost-win64_release_1.4.0/src/learner.cc:1095: Starting in XGBoost 1.3.0, the default evaluation metric used with the objective 'binary:logistic' was changed from 'error' to 'logloss'. Explicitly set eval_metric if you'd like to restore the old behavior.\n",
      "[10:47:10] WARNING: C:/Users/Administrator/workspace/xgboost-win64_release_1.4.0/src/learner.cc:1095: Starting in XGBoost 1.3.0, the default evaluation metric used with the objective 'binary:logistic' was changed from 'error' to 'logloss'. Explicitly set eval_metric if you'd like to restore the old behavior.\n",
      "the cross_val_score is: 0.9196153846153846\n",
      "              precision    recall  f1-score   support\n",
      "\n",
      "           0       0.97      0.98      0.98       249\n",
      "           1       0.97      0.95      0.96       149\n",
      "\n",
      "    accuracy                           0.97       398\n",
      "   macro avg       0.97      0.97      0.97       398\n",
      "weighted avg       0.97      0.97      0.97       398\n",
      "\n",
      "              precision    recall  f1-score   support\n",
      "\n",
      "           0       0.97      0.94      0.96       108\n",
      "           1       0.91      0.95      0.93        63\n",
      "\n",
      "    accuracy                           0.95       171\n",
      "   macro avg       0.94      0.95      0.94       171\n",
      "weighted avg       0.95      0.95      0.95       171\n",
      "\n",
      "the accuracy_score is: 0.9473684210526315\n"
     ]
    },
    {
     "data": {
      "text/plain": [
       "<matplotlib.axes._subplots.AxesSubplot at 0x1acfe3c9610>"
      ]
     },
     "execution_count": 29,
     "metadata": {},
     "output_type": "execute_result"
    },
    {
     "data": {
      "image/png": "[encoded data removed]",
      "text/plain": [
       "<Figure size 432x288 with 2 Axes>"
      ]
     },
     "metadata": {
      "needs_background": "light"
     },
     "output_type": "display_data"
    }
   ],
   "source": [
    "#applying Hyperparameter tuning for xgboost\n",
    "\n",
    "from xgboost import XGBClassifier\n",
    "xgb=XGBClassifier(base_score=0.5, booster='gbtree', colsample_bylevel=1,\n",
    "              colsample_bynode=1, colsample_bytree=1, gamma=0, gpu_id=-1,\n",
    "              importance_type='gain', interaction_constraints='',\n",
    "              learning_rate=0.01, max_delta_step=0, max_depth=5,\n",
    "              min_child_weight=1, monotone_constraints='()',\n",
    "              n_estimators=30, n_jobs=4, num_parallel_tree=1,\n",
    "            random_state=0, reg_alpha=0,\n",
    "              reg_lambda=1, scale_pos_weight=None, subsample=1,\n",
    "              tree_method='exact', validate_parameters=1, verbosity=None)\n",
    "xgb.fit(x_train,y_train)\n",
    "xgb_pred_train=xgb.predict(x_train)\n",
    "xgb_pred_test=xgb.predict(x_test)\n",
    "xgb_pred_proba=xgb.predict_proba(x_test)\n",
    "\n",
    "#metrics\n",
    "from sklearn.metrics  import confusion_matrix,classification_report,accuracy_score\n",
    "import seaborn as sns\n",
    "from sklearn.model_selection import cross_val_score\n",
    "cvs=cross_val_score(xgb,x_train,y_train,cv=10,scoring='accuracy')\n",
    "print(\"the cross_val_score is:\",cvs.mean())\n",
    "print(classification_report(y_train,xgb_pred_train))\n",
    "print(classification_report(y_test,xgb_pred_test))\n",
    "print(\"the accuracy_score is:\",accuracy_score(y_test,xgb_pred_test))\n",
    "cm=confusion_matrix(y_test,knn_pred_test)\n",
    "sns.heatmap(cm,annot=True)"
   ]
  },
  {
   "cell_type": "code",
   "execution_count": 30,
   "metadata": {},
   "outputs": [
    {
     "data": {
      "image/png": "[encoded data removed]",
      "text/plain": [
       "<Figure size 432x288 with 1 Axes>"
      ]
     },
     "metadata": {
      "needs_background": "light"
     },
     "output_type": "display_data"
    }
   ],
   "source": [
    "#precision_recall_curve\n",
    "from sklearn.metrics import precision_recall_curve as prc\n",
    "precision_points,recall_points,threshold_points=prc(y_test,xgb_pred_proba[:,1])\n",
    "plt.plot(threshold_points,precision_points[:-1],label=\"precision_curve\",color='red')\n",
    "plt.plot(threshold_points,recall_points[:-1],label='recall_curve',color='blue')\n",
    "plt.legend()\n",
    "plt.show()\n",
    "\n",
    "#the belowintersection is near to 0.5, which is a very good threshold"
   ]
  },
  {
   "cell_type": "markdown",
   "metadata": {},
   "source": [
    "# Deep Learning, Artificial Neural Networks"
   ]
  },
  {
   "cell_type": "code",
   "execution_count": 31,
   "metadata": {},
   "outputs": [
    {
     "name": "stdout",
     "output_type": "stream",
     "text": [
      "Epoch 1/150\n",
      "4/4 [==============================] - 4s 9ms/step - loss: 0.6930 - accuracy: 0.5952\n",
      "Epoch 2/150\n",
      "4/4 [==============================] - 0s 14ms/step - loss: 0.6920 - accuracy: 0.6527\n",
      "Epoch 3/150\n",
      "4/4 [==============================] - 0s 22ms/step - loss: 0.6905 - accuracy: 0.6773\n",
      "Epoch 4/150\n",
      "4/4 [==============================] - 0s 13ms/step - loss: 0.6880 - accuracy: 0.7448\n",
      "Epoch 5/150\n",
      "4/4 [==============================] - 0s 16ms/step - loss: 0.6859 - accuracy: 0.7371\n",
      "Epoch 6/150\n",
      "4/4 [==============================] - 0s 14ms/step - loss: 0.6813 - accuracy: 0.7946\n",
      "Epoch 7/150\n",
      "4/4 [==============================] - 0s 14ms/step - loss: 0.6772 - accuracy: 0.7946\n",
      "Epoch 8/150\n",
      "4/4 [==============================] - 0s 15ms/step - loss: 0.6690 - accuracy: 0.8423\n",
      "Epoch 9/150\n",
      "4/4 [==============================] - 0s 21ms/step - loss: 0.6633 - accuracy: 0.8414\n",
      "Epoch 10/150\n",
      "4/4 [==============================] - 0s 17ms/step - loss: 0.6474 - accuracy: 0.8878\n",
      "Epoch 11/150\n",
      "4/4 [==============================] - 0s 16ms/step - loss: 0.6282 - accuracy: 0.9001\n",
      "Epoch 12/150\n",
      "4/4 [==============================] - 0s 12ms/step - loss: 0.6176 - accuracy: 0.9052\n",
      "Epoch 13/150\n",
      "4/4 [==============================] - 0s 13ms/step - loss: 0.5925 - accuracy: 0.9089\n",
      "Epoch 14/150\n",
      "4/4 [==============================] - 0s 21ms/step - loss: 0.5637 - accuracy: 0.9305\n",
      "Epoch 15/150\n",
      "4/4 [==============================] - 0s 21ms/step - loss: 0.5324 - accuracy: 0.9359\n",
      "Epoch 16/150\n",
      "4/4 [==============================] - 0s 11ms/step - loss: 0.5090 - accuracy: 0.9489\n",
      "Epoch 17/150\n",
      "4/4 [==============================] - 0s 12ms/step - loss: 0.4755 - accuracy: 0.9309\n",
      "Epoch 18/150\n",
      "4/4 [==============================] - 0s 22ms/step - loss: 0.4481 - accuracy: 0.9489\n",
      "Epoch 19/150\n",
      "4/4 [==============================] - 0s 12ms/step - loss: 0.4080 - accuracy: 0.9452\n",
      "Epoch 20/150\n",
      "4/4 [==============================] - 0s 12ms/step - loss: 0.3870 - accuracy: 0.9546\n",
      "Epoch 21/150\n",
      "4/4 [==============================] - 0s 25ms/step - loss: 0.3732 - accuracy: 0.9342\n",
      "Epoch 22/150\n",
      "4/4 [==============================] - ETA: 0s - loss: 0.3618 - accuracy: 0.93 - 0s 11ms/step - loss: 0.3444 - accuracy: 0.9452\n",
      "Epoch 23/150\n",
      "4/4 [==============================] - 0s 24ms/step - loss: 0.3296 - accuracy: 0.9315\n",
      "Epoch 24/150\n",
      "4/4 [==============================] - 0s 26ms/step - loss: 0.2968 - accuracy: 0.9572\n",
      "Epoch 25/150\n",
      "4/4 [==============================] - 0s 12ms/step - loss: 0.2839 - accuracy: 0.9512\n",
      "Epoch 26/150\n",
      "4/4 [==============================] - 0s 13ms/step - loss: 0.2613 - accuracy: 0.9616\n",
      "Epoch 27/150\n",
      "4/4 [==============================] - 0s 12ms/step - loss: 0.2540 - accuracy: 0.9396\n",
      "Epoch 28/150\n",
      "4/4 [==============================] - 0s 13ms/step - loss: 0.2458 - accuracy: 0.9576\n",
      "Epoch 29/150\n",
      "4/4 [==============================] - 0s 11ms/step - loss: 0.2151 - accuracy: 0.9582\n",
      "Epoch 30/150\n",
      "4/4 [==============================] - 0s 16ms/step - loss: 0.2138 - accuracy: 0.9566\n",
      "Epoch 31/150\n",
      "4/4 [==============================] - 0s 13ms/step - loss: 0.2129 - accuracy: 0.9469\n",
      "Epoch 32/150\n",
      "4/4 [==============================] - 0s 15ms/step - loss: 0.2127 - accuracy: 0.9596\n",
      "Epoch 33/150\n",
      "4/4 [==============================] - 0s 16ms/step - loss: 0.1926 - accuracy: 0.9753\n",
      "Epoch 34/150\n",
      "4/4 [==============================] - 0s 12ms/step - loss: 0.1834 - accuracy: 0.9652\n",
      "Epoch 35/150\n",
      "4/4 [==============================] - 0s 12ms/step - loss: 0.1782 - accuracy: 0.9669\n",
      "Epoch 36/150\n",
      "4/4 [==============================] - 0s 16ms/step - loss: 0.1737 - accuracy: 0.9669\n",
      "Epoch 37/150\n",
      "4/4 [==============================] - 0s 11ms/step - loss: 0.1800 - accuracy: 0.9669\n",
      "Epoch 38/150\n",
      "4/4 [==============================] - 0s 12ms/step - loss: 0.1606 - accuracy: 0.9676\n",
      "Epoch 39/150\n",
      "4/4 [==============================] - 0s 16ms/step - loss: 0.1878 - accuracy: 0.9489\n",
      "Epoch 40/150\n",
      "4/4 [==============================] - 0s 16ms/step - loss: 0.1583 - accuracy: 0.9579\n",
      "Epoch 41/150\n",
      "4/4 [==============================] - 0s 12ms/step - loss: 0.1731 - accuracy: 0.9549\n",
      "Epoch 42/150\n",
      "4/4 [==============================] - 0s 13ms/step - loss: 0.1644 - accuracy: 0.9532\n",
      "Epoch 43/150\n",
      "4/4 [==============================] - 0s 13ms/step - loss: 0.1553 - accuracy: 0.9719\n",
      "Epoch 44/150\n",
      "4/4 [==============================] - 0s 12ms/step - loss: 0.1399 - accuracy: 0.9783\n",
      "Epoch 45/150\n",
      "4/4 [==============================] - 0s 13ms/step - loss: 0.1462 - accuracy: 0.9673\n",
      "Epoch 46/150\n",
      "4/4 [==============================] - 0s 11ms/step - loss: 0.1431 - accuracy: 0.9533\n",
      "Epoch 47/150\n",
      "4/4 [==============================] - 0s 11ms/step - loss: 0.1251 - accuracy: 0.9699\n",
      "Epoch 48/150\n",
      "4/4 [==============================] - 0s 12ms/step - loss: 0.1517 - accuracy: 0.9606\n",
      "Epoch 49/150\n",
      "4/4 [==============================] - 0s 14ms/step - loss: 0.1360 - accuracy: 0.9713\n",
      "Epoch 50/150\n",
      "4/4 [==============================] - 0s 16ms/step - loss: 0.1294 - accuracy: 0.9736\n",
      "Epoch 51/150\n",
      "4/4 [==============================] - 0s 15ms/step - loss: 0.1556 - accuracy: 0.9666\n",
      "Epoch 52/150\n",
      "4/4 [==============================] - 0s 21ms/step - loss: 0.1415 - accuracy: 0.9649\n",
      "Epoch 53/150\n",
      "4/4 [==============================] - 0s 13ms/step - loss: 0.1335 - accuracy: 0.9736\n",
      "Epoch 54/150\n",
      "4/4 [==============================] - 0s 14ms/step - loss: 0.1256 - accuracy: 0.9633\n",
      "Epoch 55/150\n",
      "4/4 [==============================] - 0s 13ms/step - loss: 0.1317 - accuracy: 0.9689\n",
      "Epoch 56/150\n",
      "4/4 [==============================] - 0s 16ms/step - loss: 0.1136 - accuracy: 0.9679\n",
      "Epoch 57/150\n",
      "4/4 [==============================] - 0s 14ms/step - loss: 0.1466 - accuracy: 0.9663\n",
      "Epoch 58/150\n",
      "4/4 [==============================] - 0s 13ms/step - loss: 0.1834 - accuracy: 0.9496\n",
      "Epoch 59/150\n",
      "4/4 [==============================] - 0s 17ms/step - loss: 0.1484 - accuracy: 0.9636\n",
      "Epoch 60/150\n",
      "4/4 [==============================] - ETA: 0s - loss: 0.1007 - accuracy: 0.97 - 0s 19ms/step - loss: 0.1164 - accuracy: 0.9699\n",
      "Epoch 61/150\n",
      "4/4 [==============================] - 0s 14ms/step - loss: 0.1126 - accuracy: 0.9686\n",
      "Epoch 62/150\n",
      "4/4 [==============================] - 0s 12ms/step - loss: 0.1112 - accuracy: 0.9683\n",
      "Epoch 63/150\n",
      "4/4 [==============================] - 0s 14ms/step - loss: 0.1510 - accuracy: 0.9643\n",
      "Epoch 64/150\n",
      "4/4 [==============================] - 0s 15ms/step - loss: 0.1233 - accuracy: 0.9779\n",
      "Epoch 65/150\n",
      "4/4 [==============================] - 0s 16ms/step - loss: 0.1134 - accuracy: 0.9683\n",
      "Epoch 66/150\n",
      "4/4 [==============================] - 0s 13ms/step - loss: 0.1246 - accuracy: 0.9703\n",
      "Epoch 67/150\n",
      "4/4 [==============================] - 0s 24ms/step - loss: 0.1237 - accuracy: 0.9646\n",
      "Epoch 68/150\n",
      "4/4 [==============================] - 0s 11ms/step - loss: 0.1339 - accuracy: 0.9669\n",
      "Epoch 69/150\n",
      "4/4 [==============================] - 0s 15ms/step - loss: 0.1439 - accuracy: 0.9703\n",
      "Epoch 70/150\n",
      "4/4 [==============================] - 0s 14ms/step - loss: 0.1280 - accuracy: 0.9770\n",
      "Epoch 71/150\n",
      "4/4 [==============================] - 0s 12ms/step - loss: 0.1150 - accuracy: 0.9833\n",
      "Epoch 72/150\n",
      "4/4 [==============================] - 0s 22ms/step - loss: 0.1228 - accuracy: 0.9766\n",
      "Epoch 73/150\n",
      "4/4 [==============================] - 0s 13ms/step - loss: 0.1134 - accuracy: 0.9736\n",
      "Epoch 74/150\n",
      "4/4 [==============================] - 0s 13ms/step - loss: 0.1583 - accuracy: 0.9726\n",
      "Epoch 75/150\n",
      "4/4 [==============================] - 0s 14ms/step - loss: 0.1325 - accuracy: 0.9643\n",
      "Epoch 76/150\n",
      "4/4 [==============================] - 0s 22ms/step - loss: 0.1270 - accuracy: 0.9830\n",
      "Epoch 77/150\n",
      "4/4 [==============================] - 0s 12ms/step - loss: 0.1181 - accuracy: 0.9636\n",
      "Epoch 78/150\n",
      "4/4 [==============================] - 0s 12ms/step - loss: 0.1277 - accuracy: 0.9706\n",
      "Epoch 79/150\n",
      "4/4 [==============================] - 0s 22ms/step - loss: 0.1102 - accuracy: 0.9796\n",
      "Epoch 80/150\n",
      "4/4 [==============================] - 0s 16ms/step - loss: 0.1150 - accuracy: 0.9800\n",
      "Epoch 81/150\n",
      "4/4 [==============================] - 0s 12ms/step - loss: 0.0966 - accuracy: 0.9750\n",
      "Epoch 82/150\n",
      "4/4 [==============================] - 0s 13ms/step - loss: 0.0917 - accuracy: 0.9709\n",
      "Epoch 83/150\n",
      "4/4 [==============================] - 0s 17ms/step - loss: 0.0991 - accuracy: 0.9666\n",
      "Epoch 84/150\n",
      "4/4 [==============================] - ETA: 0s - loss: 0.1326 - accuracy: 0.97 - 0s 13ms/step - loss: 0.1126 - accuracy: 0.9699\n",
      "Epoch 85/150\n",
      "4/4 [==============================] - 0s 16ms/step - loss: 0.1224 - accuracy: 0.9709\n",
      "Epoch 86/150\n",
      "4/4 [==============================] - 0s 13ms/step - loss: 0.0944 - accuracy: 0.9793\n",
      "Epoch 87/150\n",
      "4/4 [==============================] - 0s 14ms/step - loss: 0.1001 - accuracy: 0.9753\n",
      "Epoch 88/150\n",
      "4/4 [==============================] - 0s 22ms/step - loss: 0.0912 - accuracy: 0.9796\n",
      "Epoch 89/150\n",
      "4/4 [==============================] - 0s 16ms/step - loss: 0.1337 - accuracy: 0.9733\n",
      "Epoch 90/150\n",
      "4/4 [==============================] - 0s 15ms/step - loss: 0.0929 - accuracy: 0.9706\n",
      "Epoch 91/150\n",
      "4/4 [==============================] - 0s 25ms/step - loss: 0.1418 - accuracy: 0.9559\n",
      "Epoch 92/150\n",
      "4/4 [==============================] - 0s 14ms/step - loss: 0.1128 - accuracy: 0.9760\n",
      "Epoch 93/150\n",
      "4/4 [==============================] - 0s 16ms/step - loss: 0.0903 - accuracy: 0.9626\n",
      "Epoch 94/150\n",
      "4/4 [==============================] - 0s 16ms/step - loss: 0.0960 - accuracy: 0.9836\n",
      "Epoch 95/150\n",
      "4/4 [==============================] - 0s 16ms/step - loss: 0.1209 - accuracy: 0.9576\n",
      "Epoch 96/150\n",
      "4/4 [==============================] - 0s 13ms/step - loss: 0.1066 - accuracy: 0.9623\n",
      "Epoch 97/150\n",
      "4/4 [==============================] - 0s 15ms/step - loss: 0.1182 - accuracy: 0.9749\n",
      "Epoch 98/150\n",
      "4/4 [==============================] - 0s 13ms/step - loss: 0.1109 - accuracy: 0.9669\n",
      "Epoch 99/150\n",
      "4/4 [==============================] - 0s 13ms/step - loss: 0.1189 - accuracy: 0.9586\n",
      "Epoch 100/150\n",
      "4/4 [==============================] - 0s 15ms/step - loss: 0.0991 - accuracy: 0.9736\n",
      "Epoch 101/150\n",
      "4/4 [==============================] - 0s 12ms/step - loss: 0.0988 - accuracy: 0.9719\n",
      "Epoch 102/150\n",
      "4/4 [==============================] - 0s 15ms/step - loss: 0.1148 - accuracy: 0.9743\n",
      "Epoch 103/150\n",
      "4/4 [==============================] - 0s 15ms/step - loss: 0.0959 - accuracy: 0.9746\n",
      "Epoch 104/150\n",
      "4/4 [==============================] - 0s 16ms/step - loss: 0.0880 - accuracy: 0.9776\n",
      "Epoch 105/150\n",
      "4/4 [==============================] - 0s 11ms/step - loss: 0.1216 - accuracy: 0.9569\n",
      "Epoch 106/150\n",
      "4/4 [==============================] - 0s 15ms/step - loss: 0.1083 - accuracy: 0.9753\n",
      "Epoch 107/150\n",
      "4/4 [==============================] - 0s 14ms/step - loss: 0.0934 - accuracy: 0.9749\n",
      "Epoch 108/150\n",
      "4/4 [==============================] - 0s 16ms/step - loss: 0.0979 - accuracy: 0.9800\n",
      "Epoch 109/150\n",
      "4/4 [==============================] - 0s 13ms/step - loss: 0.0906 - accuracy: 0.9773\n",
      "Epoch 110/150\n",
      "4/4 [==============================] - 0s 15ms/step - loss: 0.1076 - accuracy: 0.9716\n",
      "Epoch 111/150\n",
      "4/4 [==============================] - 0s 15ms/step - loss: 0.1029 - accuracy: 0.9703\n",
      "Epoch 112/150\n",
      "4/4 [==============================] - 0s 14ms/step - loss: 0.0916 - accuracy: 0.9733\n",
      "Epoch 113/150\n",
      "4/4 [==============================] - ETA: 0s - loss: 0.1142 - accuracy: 0.96 - 0s 12ms/step - loss: 0.0896 - accuracy: 0.9723\n",
      "Epoch 114/150\n",
      "4/4 [==============================] - 0s 11ms/step - loss: 0.1090 - accuracy: 0.9703\n",
      "Epoch 115/150\n",
      "4/4 [==============================] - 0s 14ms/step - loss: 0.1168 - accuracy: 0.9703\n",
      "Epoch 116/150\n",
      "4/4 [==============================] - 0s 15ms/step - loss: 0.0980 - accuracy: 0.9673\n",
      "Epoch 117/150\n",
      "4/4 [==============================] - 0s 12ms/step - loss: 0.0766 - accuracy: 0.9860\n",
      "Epoch 118/150\n",
      "4/4 [==============================] - 0s 14ms/step - loss: 0.1138 - accuracy: 0.9723\n",
      "Epoch 119/150\n",
      "4/4 [==============================] - 0s 12ms/step - loss: 0.0884 - accuracy: 0.9803\n",
      "Epoch 120/150\n",
      "4/4 [==============================] - 0s 12ms/step - loss: 0.1003 - accuracy: 0.9649\n",
      "Epoch 121/150\n",
      "4/4 [==============================] - 0s 12ms/step - loss: 0.0929 - accuracy: 0.9796\n",
      "Epoch 122/150\n",
      "4/4 [==============================] - 0s 17ms/step - loss: 0.0720 - accuracy: 0.9833\n",
      "Epoch 123/150\n",
      "4/4 [==============================] - 0s 13ms/step - loss: 0.1294 - accuracy: 0.9676\n",
      "Epoch 124/150\n",
      "4/4 [==============================] - 0s 13ms/step - loss: 0.1058 - accuracy: 0.9796\n",
      "Epoch 125/150\n",
      "4/4 [==============================] - 0s 14ms/step - loss: 0.0997 - accuracy: 0.9739\n",
      "Epoch 126/150\n",
      "4/4 [==============================] - 0s 15ms/step - loss: 0.0952 - accuracy: 0.9770\n",
      "Epoch 127/150\n",
      "4/4 [==============================] - 0s 24ms/step - loss: 0.1189 - accuracy: 0.9676\n",
      "Epoch 128/150\n",
      "4/4 [==============================] - ETA: 0s - loss: 0.1199 - accuracy: 0.94 - 0s 14ms/step - loss: 0.0977 - accuracy: 0.9619\n",
      "Epoch 129/150\n",
      "4/4 [==============================] - 0s 15ms/step - loss: 0.1061 - accuracy: 0.9686\n",
      "Epoch 130/150\n",
      "4/4 [==============================] - 0s 21ms/step - loss: 0.0972 - accuracy: 0.9659\n",
      "Epoch 131/150\n",
      "4/4 [==============================] - 0s 21ms/step - loss: 0.0741 - accuracy: 0.9853\n",
      "Epoch 132/150\n",
      "4/4 [==============================] - 0s 17ms/step - loss: 0.0826 - accuracy: 0.9716\n",
      "Epoch 133/150\n",
      "4/4 [==============================] - 0s 16ms/step - loss: 0.1024 - accuracy: 0.9593\n",
      "Epoch 134/150\n",
      "4/4 [==============================] - 0s 15ms/step - loss: 0.0956 - accuracy: 0.9623\n",
      "Epoch 135/150\n",
      "4/4 [==============================] - 0s 27ms/step - loss: 0.0889 - accuracy: 0.9809\n",
      "Epoch 136/150\n",
      "4/4 [==============================] - 0s 13ms/step - loss: 0.1021 - accuracy: 0.9793\n",
      "Epoch 137/150\n",
      "4/4 [==============================] - ETA: 0s - loss: 0.1137 - accuracy: 0.97 - 0s 15ms/step - loss: 0.0940 - accuracy: 0.9763\n",
      "Epoch 138/150\n",
      "4/4 [==============================] - 0s 12ms/step - loss: 0.0904 - accuracy: 0.9786\n",
      "Epoch 139/150\n",
      "4/4 [==============================] - 0s 12ms/step - loss: 0.1112 - accuracy: 0.9629\n",
      "Epoch 140/150\n",
      "4/4 [==============================] - 0s 13ms/step - loss: 0.1139 - accuracy: 0.9743\n",
      "Epoch 141/150\n",
      "4/4 [==============================] - 0s 13ms/step - loss: 0.0898 - accuracy: 0.9796\n",
      "Epoch 142/150\n",
      "4/4 [==============================] - 0s 11ms/step - loss: 0.0575 - accuracy: 0.9763\n",
      "Epoch 143/150\n",
      "4/4 [==============================] - 0s 15ms/step - loss: 0.0607 - accuracy: 0.9876\n",
      "Epoch 144/150\n",
      "4/4 [==============================] - 0s 12ms/step - loss: 0.0836 - accuracy: 0.9683\n",
      "Epoch 145/150\n",
      "4/4 [==============================] - 0s 11ms/step - loss: 0.1082 - accuracy: 0.9573\n",
      "Epoch 146/150\n",
      "4/4 [==============================] - 0s 13ms/step - loss: 0.0777 - accuracy: 0.9723\n",
      "Epoch 147/150\n",
      "4/4 [==============================] - 0s 16ms/step - loss: 0.0789 - accuracy: 0.9786\n",
      "Epoch 148/150\n",
      "4/4 [==============================] - 0s 11ms/step - loss: 0.1242 - accuracy: 0.9516\n",
      "Epoch 149/150\n",
      "4/4 [==============================] - 0s 12ms/step - loss: 0.0817 - accuracy: 0.9773\n",
      "Epoch 150/150\n",
      "4/4 [==============================] - 0s 21ms/step - loss: 0.1125 - accuracy: 0.9690\n"
     ]
    }
   ],
   "source": [
    "import keras\n",
    "from keras.models import Sequential\n",
    "from keras.layers import Dense,Dropout\n",
    "\n",
    "ann=Sequential()\n",
    "\n",
    "#creating the input and first hidden layer\n",
    "ann.add(Dense(16,kernel_initializer='uniform',activation='relu',input_shape=(30,)))\n",
    "ann.add(Dropout(0.6))\n",
    "#adding the second hidden layer\n",
    "ann.add(Dense(16,kernel_initializer='uniform',activation='relu'))\n",
    "ann.add(Dropout(0.6))\n",
    "#adding the outputlayer\n",
    "ann.add(Dense(1,kernel_initializer='uniform',activation='sigmoid'))\n",
    "\n",
    "#compiling\n",
    "ann.compile(optimizer='Adam',loss='binary_crossentropy',metrics=['accuracy'])\n",
    "\n",
    "\n",
    "ann.fit(x_train,y_train,batch_size=100,epochs=150)\n",
    "\n",
    "ann_pred_train=ann.predict(x_train)\n",
    "ann_pred_test=ann.predict(x_test)\n",
    "ann_pred_test=(ann_pred_test>0.5)\n",
    "\n",
    "\n",
    "\n"
   ]
  },
  {
   "cell_type": "code",
   "execution_count": 32,
   "metadata": {},
   "outputs": [
    {
     "name": "stdout",
     "output_type": "stream",
     "text": [
      "the accuracy_score is: 0.9707602339181286\n",
      "              precision    recall  f1-score   support\n",
      "\n",
      "           0       0.97      0.98      0.98       108\n",
      "           1       0.97      0.95      0.96        63\n",
      "\n",
      "    accuracy                           0.97       171\n",
      "   macro avg       0.97      0.97      0.97       171\n",
      "weighted avg       0.97      0.97      0.97       171\n",
      "\n"
     ]
    },
    {
     "data": {
      "image/png": "[encoded data removed]",
      "text/plain": [
       "<Figure size 432x288 with 2 Axes>"
      ]
     },
     "metadata": {
      "needs_background": "light"
     },
     "output_type": "display_data"
    }
   ],
   "source": [
    "#metrics\n",
    "\n",
    "from sklearn.metrics import confusion_matrix,classification_report,accuracy_score\n",
    "import seaborn as sns\n",
    "from sklearn.model_selection import cross_val_score\n",
    "\n",
    "cm=confusion_matrix(y_test,ann_pred_test)\n",
    "sns.heatmap(cm,annot=True)\n",
    "print(\"the accuracy_score is:\",accuracy_score(y_test,ann_pred_test))\n",
    "print(classification_report(y_test,ann_pred_test))\n"
   ]
  },
  {
   "cell_type": "markdown",
   "metadata": {},
   "source": [
    "# roc_curve, roc_auc_score"
   ]
  },
  {
   "cell_type": "code",
   "execution_count": 66,
   "metadata": {},
   "outputs": [
    {
     "name": "stdout",
     "output_type": "stream",
     "text": [
      "KNN roc_auc_score is: 0.9839065255731922\n",
      "naive_bayes roc_auc_score is: 0.9825102880658436\n",
      "svm roc_auc_score is: 0.9975014697236919\n",
      "logisticRegression roc_auc_score is: 0.9947089947089948\n",
      "DecisionTREE roc_auc_score is: 0.9276161081716635\n",
      "AdaBoost roc_auc_score is: 0.9919165196942974\n",
      "Gradient Boosting roc_auc_score is: 0.9922104644326867\n",
      "LightGradientBoosting roc_auc_score is: 0.9988242210464433\n",
      "XgradientBoosting roc_auc_score is: 0.9792034097589652\n",
      "the accuracy_score is: 0.9707602339181286\n"
     ]
    },
    {
     "data": {
      "image/png": "[encoded data removed]",
      "text/plain": [
       "<Figure size 1800x720 with 1 Axes>"
      ]
     },
     "metadata": {
      "needs_background": "light"
     },
     "output_type": "display_data"
    }
   ],
   "source": [
    "from sklearn.metrics import roc_curve,roc_auc_score\n",
    "#calculating and printing roc_auc_score\n",
    "print(\"KNN roc_auc_score is:\",roc_auc_score(y_test,knn_pred_proba[:,1]))\n",
    "print(\"naive_bayes roc_auc_score is:\",roc_auc_score(y_test,nb_pred_proba[:,1]))\n",
    "print(\"svm roc_auc_score is:\",roc_auc_score(y_test,svm_pred_proba[:,1]))\n",
    "print(\"logisticRegression roc_auc_score is:\",roc_auc_score(y_test,lr_pred_proba[:,1]))\n",
    "print(\"DecisionTREE roc_auc_score is:\",roc_auc_score(y_test,dt_pred_proba[:,1]))\n",
    "print(\"AdaBoost roc_auc_score is:\",roc_auc_score(y_test,ada_pred_proba[:,1]))\n",
    "print(\"Gradient Boosting roc_auc_score is:\",roc_auc_score(y_test,gb_pred_proba[:,1]))\n",
    "print(\"LightGradientBoosting roc_auc_score is:\",roc_auc_score(y_test,lgbm_pred_proba[:,1]))\n",
    "print(\"XgradientBoosting roc_auc_score is:\",roc_auc_score(y_test,xgb_pred_proba[:,1]))\n",
    "print(\"the accuracy_score is:\",accuracy_score(y_test,ann_pred_test))\n",
    "\n",
    "#calculating roc curve\n",
    "knn_fpr,knn_tpr,threshold=roc_curve(y_test,knn_pred_proba[:,1])\n",
    "nb_fpr,nb_tpr,threshold=roc_curve(y_test,nb_pred_proba[:,1])\n",
    "svm_fpr,svm_tpr,threshold=roc_curve(y_test,svm_pred_proba[:,1])\n",
    "lr_fpr,lr_tpr,threshold=roc_curve(y_test,lr_pred_proba[:,1])\n",
    "dt_fpr,dt_tpr,threshold=roc_curve(y_test,dt_pred_proba[:,1])\n",
    "rf_fpr,rf_tpr,threshold=roc_curve(y_test,rf_pred_proba[:,1])\n",
    "gb_fpr,gb_tpr,threshold=roc_curve(y_test,gb_pred_proba[:,1])\n",
    "ada_fpr,ada_tpr,threshold=roc_curve(y_test,gb_pred_proba[:,1])\n",
    "lgbm_fpr,lgbm_tpr,threshold=roc_curve(y_test,lgbm_pred_proba[:,1])\n",
    "xgb_fpr,xgb_tpr,threshold=roc_curve(y_test,xgb_pred_proba[:,1])\n",
    "\n",
    "#plotting\n",
    "plt.figure(figsize=(25,10))\n",
    "plt.plot([0,1],[0,1],label='baseline',color='red')\n",
    "plt.plot(knn_fpr,knn_tpr,label='KNN ROC CURVE',color='blue')\n",
    "plt.plot(nb_fpr,nb_tpr,label='naive_bayes curve',color='green')\n",
    "plt.plot(svm_fpr,svm_tpr,label='support vector machine curve',color='yellow')\n",
    "plt.plot(lr_fpr,lr_tpr,label='Logistic Regression curve',color='violet')\n",
    "plt.plot(dt_fpr,dt_tpr,label='Decision TREE ROC CURVE',color='orange')\n",
    "plt.plot(rf_fpr,rf_tpr,label='Random forestroc curve',color='brown')\n",
    "plt.plot(ada_fpr,ada_tpr,label='adaboostroc curve',color='pink')\n",
    "plt.plot(gb_fpr,gb_tpr,label='gradientboosting roc curve',color='turquoise')\n",
    "plt.plot(lgbm_fpr,lgbm_tpr,label='lightbgm roc curve',color='purple')\n",
    "plt.plot(xgb_fpr,xgb_tpr,label='xgb roc curve',color='navy')\n",
    "plt.xlabel('false positive rate')\n",
    "plt.ylabel('True positive rate')\n",
    "plt.title('ROC CURVE')\n",
    "plt.legend()\n",
    "plt.show()"
   ]
  },
  {
   "cell_type": "markdown",
   "metadata": {},
   "source": [
    "# from the above lgbm gives good score\n",
    "# so,we take lightbgm to proceed further for the picklemodel"
   ]
  },
  {
   "cell_type": "markdown",
   "metadata": {},
   "source": [
    "# step-4 : Model Deployment\n",
    "# i)Local Machine\n",
    "# ii)Heroku cloud\n",
    "# iii)Google cloud palatform\n",
    "# iv)Microsoft azure cloud"
   ]
  },
  {
   "cell_type": "code",
   "execution_count": null,
   "metadata": {},
   "outputs": [],
   "source": [
    "#first we will proceed for pickle\n",
    "import pickle\n",
    "pickle.dump(lgbm,open('model.pkl','wb'))\n",
    "\n",
    "\n",
    "# now we got two files i.e,\n",
    "#Breastcancer_binaryclassfication.ipynb\n",
    "#model.pkl\n",
    "# D\n",
    "#files needed to deploy in local machine\n",
    "\n",
    "# 1) templates-index.html\n",
    "# 2)model.pkl\n",
    "# 3) app.py(production file)\n",
    "# 4) model.ipynb(optional)\n",
    "# 5) BreastCancer.csv(optional)\n",
    "# 6) static/images(optional)"
   ]
  },
  {
   "cell_type": "code",
   "execution_count": null,
   "metadata": {},
   "outputs": [],
   "source": [
    "# for reference, don't  run this\n",
    "input_data = (5,166,72,19,175,25.8,0.587,51)\n",
    "\n",
    "# changing the input_data to numpy array\n",
    "input_data_as_numpy_array = np.asarray(input_data)\n",
    "\n",
    "# reshape the array as we are predicting for one instance\n",
    "input_data_reshaped = input_data_as_numpy_array.reshape(1,-1)\n",
    "\n",
    "# standardize the input data\n",
    "std_data = scaler.transform(input_data_reshaped)\n",
    "print(std_data)\n",
    "\n",
    "prediction = classifier.predict(std_data)\n",
    "print(prediction)\n",
    "\n",
    "if (prediction[0] == 0):\n",
    "  print('The person is not diabetic')\n",
    "else:\n",
    "  print('The person is diabetic')"
   ]
  },
  {
   "cell_type": "markdown",
   "metadata": {},
   "source": [
    "# ML model Deployment on Local Machine"
   ]
  },
  {
   "cell_type": "code",
   "execution_count": null,
   "metadata": {},
   "outputs": [],
   "source": [
    "# create a folder in c -  C:\\PROJECTS\\classification\\BreastCancer_BinaryClassification_prediction\\local_machine\n",
    "# goto Anaconda prompt\n",
    "#(base) C:\\Users\\Dell>cd C:\\PROJECTS\\classification\\BreastCancer_BinaryClassification_prediction\\local_machine\n",
    "\n",
    "# (base) C:\\PROJECTS\\classification\\BreastCancer_BinaryClassification_prediction\\local_machine>python app.py\n",
    "# a new URL is created on http://127.0.0.1:5000/ and we can predict the needful"
   ]
  },
  {
   "cell_type": "markdown",
   "metadata": {},
   "source": [
    "# ML model Deployment on Heroku cloud"
   ]
  },
  {
   "cell_type": "code",
   "execution_count": null,
   "metadata": {},
   "outputs": [],
   "source": [
    "#files to be created\n",
    "# 1) templates-index.html\n",
    "# 2)model.pkl\n",
    "# 3) app.py(production file)\n",
    "# 4) model.ipynb(optional)\n",
    "# 5) BreastCancer.csv(optional)\n",
    "# 6) static/images(optional)\n",
    "#7) procfile\n",
    "#8) requirements.txt\n",
    "\n",
    "#to create procfile: notepad-open-web: gunicorn app:app\n",
    "# to create requirements.txt\n",
    "#-anaconda pompt:cd c:// \n",
    "#-conda create -n project3_env python=3.9   - y\n",
    "#conda activate project3_env\n",
    "#pip install numpy,pandas,matplotlib,sklearn,seabon,request,flask,pickle-mixin,gunicorn\n",
    "#pip freeze >requirements.txt  : automatically it will save into the folder"
   ]
  },
  {
   "cell_type": "code",
   "execution_count": null,
   "metadata": {},
   "outputs": [],
   "source": [
    "# Method-1: using github\n",
    "#- create all the files in folder C:\\PROJECTS\\classification\\BreastCancer_BinaryClassification_prediction\\Heroku cloud\\heroku using github\n",
    "# create a repository in github- BreastCancer_99\n",
    "# open heroku.com- login\n",
    "# create a new app:breast-cancer-99\n",
    "# connect to github-connect reop-deploy branch\n",
    "# your app was successfully deployed-view\n",
    "# https://breast-cancer-99.herokuapp.com/\n"
   ]
  },
  {
   "cell_type": "code",
   "execution_count": null,
   "metadata": {},
   "outputs": [],
   "source": [
    "# Method-2:using Heroku CLI in GIT CMD\n",
    "# create a new app:  breast-cancer-cli\n",
    "# open git cmd: cd C:\\PROJECTS\\classification\\BreastCancer_BinaryClassification_prediction\\Heroku cloud\\heroku using cli\n",
    "# >heroku login\n",
    "# >git init\n",
    "# >heroku git:remote -a breast-cancer-cli\n",
    "#>git add .\n",
    "#>git commit -am \"make it better\"\n",
    "#>git push heroku main\n",
    "# https://breast-cancer-cli.herokuapp.com/ deployed to Heroku\n",
    "\n",
    "# https://breast-cancer-cli.herokuapp.com/ is the website"
   ]
  },
  {
   "cell_type": "markdown",
   "metadata": {},
   "source": [
    "# ML Deployment on Google Cloud Platform"
   ]
  },
  {
   "cell_type": "code",
   "execution_count": null,
   "metadata": {},
   "outputs": [],
   "source": [
    "#files needed for deployment\n",
    "\n",
    "# 1) templates-index.html\n",
    "# 2)model.pkl\n",
    "# 3) main.py((app.py)production file)\n",
    "# 4) model.ipynb(optional)\n",
    "# 5) BreastCancer.csv(optional)\n",
    "# 6) static/images(optional)\n",
    "# 7) requirements.txt\n",
    "#8) app.yaml"
   ]
  },
  {
   "cell_type": "code",
   "execution_count": 1,
   "metadata": {},
   "outputs": [
    {
     "name": "stdout",
     "output_type": "stream",
     "text": [
      "3.8.3\n"
     ]
    }
   ],
   "source": [
    "# to find app.yaml file\n",
    "#notebook-open:\n",
    "#runtime: python38\n",
    "\n",
    "#tocheck the python version\n",
    "from platform import python_version\n",
    "print(python_version()) # so we take python38"
   ]
  },
  {
   "cell_type": "code",
   "execution_count": null,
   "metadata": {},
   "outputs": [],
   "source": [
    "#open https://console.cloud.google.com/\n",
    "#create an application-project-name/project id: breast-cancer-1111\n",
    "# app engine-Dashboard-select Breast-cancer-1111\n",
    "#installclouds sdk\n",
    "#open cmd prompt\n",
    "# cd C:\\PROJECTS\\classification\\BreastCancer_BinaryClassification_prediction\\Google Cloud Platform\n",
    "#>gcloud init\n",
    "#>gcloud app deploy app.yaml --project breast-cancer-1111\n",
    "\n",
    "\n",
    "# https://breastcancer-1111.as.r.appspot.com/\n"
   ]
  },
  {
   "cell_type": "markdown",
   "metadata": {},
   "source": [
    "# ML Deployment on Microsoft Azure"
   ]
  },
  {
   "cell_type": "code",
   "execution_count": null,
   "metadata": {},
   "outputs": [],
   "source": [
    "#portal.azure.com\n",
    "#files needed for deeployment\n",
    "# 1) templates-index.html\n",
    "# 2)model.pkl\n",
    "# 3) app.py(production file)\n",
    "# 4) model.ipynb(optional)\n",
    "# 5) BreastCancer.csv(optional)\n",
    "# 6) static/images(optional)\n",
    "#7) requirements.txt"
   ]
  },
  {
   "cell_type": "code",
   "execution_count": null,
   "metadata": {},
   "outputs": [],
   "source": []
  }
 ],
 "metadata": {
  "kernelspec": {
   "display_name": "Python 3",
   "language": "python",
   "name": "python3"
  },
  "language_info": {
   "codemirror_mode": {
    "name": "ipython",
    "version": 3
   },
   "file_extension": ".py",
   "mimetype": "text/x-python",
   "name": "python",
   "nbconvert_exporter": "python",
   "pygments_lexer": "ipython3",
   "version": "3.8.3"
  }
 },
 "nbformat": 4,
 "nbformat_minor": 4
}
